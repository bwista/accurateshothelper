{
 "cells": [
  {
   "cell_type": "code",
   "execution_count": 1,
   "metadata": {},
   "outputs": [
    {
     "name": "stdout",
     "output_type": "stream",
     "text": [
      "Current sys.path: ['C:\\\\Users\\\\H-100\\\\AppData\\\\Local\\\\Programs\\\\Python\\\\Python310\\\\python310.zip', 'C:\\\\Users\\\\H-100\\\\AppData\\\\Local\\\\Programs\\\\Python\\\\Python310\\\\DLLs', 'C:\\\\Users\\\\H-100\\\\AppData\\\\Local\\\\Programs\\\\Python\\\\Python310\\\\lib', 'C:\\\\Users\\\\H-100\\\\AppData\\\\Local\\\\Programs\\\\Python\\\\Python310', 'c:\\\\Users\\\\H-100\\\\Desktop\\\\python\\\\accurateshothelper\\\\.venv', '', 'c:\\\\Users\\\\H-100\\\\Desktop\\\\python\\\\accurateshothelper\\\\.venv\\\\lib\\\\site-packages', 'c:\\\\Users\\\\H-100\\\\Desktop\\\\python\\\\accurateshothelper\\\\.venv\\\\lib\\\\site-packages\\\\win32', 'c:\\\\Users\\\\H-100\\\\Desktop\\\\python\\\\accurateshothelper\\\\.venv\\\\lib\\\\site-packages\\\\win32\\\\lib', 'c:\\\\Users\\\\H-100\\\\Desktop\\\\python\\\\accurateshothelper\\\\.venv\\\\lib\\\\site-packages\\\\Pythonwin', 'c:\\\\Users\\\\H-100\\\\Desktop\\\\python\\\\accurateshothelper']\n"
     ]
    }
   ],
   "source": [
    "import os\n",
    "import sys\n",
    "import pandas as pd\n",
    "import requests\n",
    "import logging\n",
    "from datetime import datetime, timedelta\n",
    "import random\n",
    "import time\n",
    "import psycopg2\n",
    "from io import StringIO\n",
    "from dotenv import load_dotenv\n",
    "\n",
    "# Add project root to sys.path\n",
    "current_dir = os.getcwd()\n",
    "project_root = os.path.abspath(os.path.join(current_dir, '..'))\n",
    "if project_root not in sys.path:\n",
    "    sys.path.append(project_root)\n",
    "\n",
    "# Verify sys.path\n",
    "print(\"Current sys.path:\", sys.path)\n",
    "\n",
    "from src.data_processing.nst_scraper import nst_on_ice_scraper, nst_team_on_ice_scraper\n",
    "from src.db.nst_db_utils import *\n",
    "\n",
    "\n",
    "pd.set_option('display.max_columns', None)\n"
   ]
  },
  {
   "cell_type": "code",
   "execution_count": 2,
   "metadata": {},
   "outputs": [],
   "source": [
    "# nst_team_on_ice_scraper(startdate='', enddate='2024-10-12',last_n=30)\n",
    "# df = nst_on_ice_scraper(startdate='', enddate='2024-10-09', last_n=30, rate='y', lines='single') "
   ]
  },
  {
   "cell_type": "code",
   "execution_count": 3,
   "metadata": {},
   "outputs": [],
   "source": [
    "# goalie_stats_df = nst_on_ice_scraper(\n",
    "#             startdate='2024-10-12',\n",
    "#             enddate='2024-10-12',\n",
    "#             pos='G',\n",
    "#             rate='n',\n",
    "#             stdoi='g',\n",
    "#             lines='single'\n",
    "#         )\n"
   ]
  },
  {
   "cell_type": "code",
   "execution_count": 4,
   "metadata": {},
   "outputs": [],
   "source": [
    "# Configure logging\n",
    "logging.basicConfig(level=logging.INFO)\n",
    "logger = logging.getLogger(__name__)"
   ]
  },
  {
   "cell_type": "code",
   "execution_count": 5,
   "metadata": {},
   "outputs": [],
   "source": [
    "# Load environment variables from .env file\n",
    "load_dotenv()\n",
    "\n",
    "db_prefix = 'NST_DB_'"
   ]
  },
  {
   "cell_type": "code",
   "execution_count": 6,
   "metadata": {},
   "outputs": [],
   "source": [
    "NHL_SEASONS = {\n",
    "    20242025: {\n",
    "        'start': '2024-10-04',\n",
    "        'regular_end': '2025-04-18',  # Estimated\n",
    "        'playoff_end': '2025-06-30'  # Estimated\n",
    "    },\n",
    "    20232024: {\n",
    "        'start': '2023-10-10',\n",
    "        'regular_end': '2024-04-18',\n",
    "        'playoff_end': '2024-06-24'\n",
    "    },\n",
    "    20222023: {\n",
    "        'start': '2022-10-07',\n",
    "        'regular_end': '2023-04-14',\n",
    "        'playoff_end': '2023-06-13'\n",
    "    },\n",
    "    20212022: {\n",
    "        'start': '2021-10-12',\n",
    "        'regular_end': '2022-04-29',\n",
    "        'playoff_end': '2022-06-26'\n",
    "    },\n",
    "    20202021: {\n",
    "        'start': '2021-01-13',\n",
    "        'regular_end': '2021-05-19',\n",
    "        'playoff_end': '2021-07-07'  # Covid-shortened season\n",
    "    }\n",
    "}"
   ]
  },
  {
   "cell_type": "code",
   "execution_count": 7,
   "metadata": {},
   "outputs": [],
   "source": [
    "# scrape_goalie_stats_range(\n",
    "#         start_date='2023-03-01',\n",
    "#         end_date='2023-04-14',\n",
    "#         db_prefix=db_prefix,  # Make sure this matches your environment variables\n",
    "#         delay_min=90,\n",
    "#         delay_max=120,\n",
    "#         situation='pk'\n",
    "#     )"
   ]
  },
  {
   "cell_type": "code",
   "execution_count": 8,
   "metadata": {},
   "outputs": [],
   "source": [
    "# nst_team_on_ice_scraper(\n",
    "#                 startdate='2025-02-24',\n",
    "#                 enddate='2025-02-24',\n",
    "#                 sit='5v5',\n",
    "#                 stype=2\n",
    "#             )\n"
   ]
  },
  {
   "cell_type": "code",
   "execution_count": 9,
   "metadata": {},
   "outputs": [
    {
     "data": {
      "text/plain": [
       "'2023-06-13'"
      ]
     },
     "execution_count": 9,
     "metadata": {},
     "output_type": "execute_result"
    }
   ],
   "source": [
    "NHL_SEASONS[20222023]['playoff_end']"
   ]
  },
  {
   "cell_type": "code",
   "execution_count": 10,
   "metadata": {},
   "outputs": [],
   "source": [
    "# scrape_team_stats_range(\n",
    "#     start_date=NHL_SEASONS[20242025]['start'],\n",
    "#     end_date='2025-02-25',\n",
    "#     db_prefix=db_prefix,\n",
    "#     delay_min=65,\n",
    "#     delay_max=90,\n",
    "#     situation='pp'\n",
    "# )\n",
    "# time.sleep(100)\n",
    "# scrape_team_stats_range(\n",
    "#     start_date=NHL_SEASONS[20232024]['start'],\n",
    "#     end_date=NHL_SEASONS[20232024]['regular_end'],\n",
    "#     db_prefix=db_prefix,\n",
    "#     delay_min=65,\n",
    "#     delay_max=90,\n",
    "#     situation='pp'\n",
    "# )\n",
    "# time.sleep(100)\n",
    "# scrape_team_stats_range(\n",
    "#     start_date=NHL_SEASONS[20222023]['start'],\n",
    "#     end_date=NHL_SEASONS[20222023]['regular_end'],\n",
    "#     db_prefix=db_prefix,\n",
    "#     delay_min=65,\n",
    "#     delay_max=90,\n",
    "#     situation='pp'\n",
    "# )\n",
    "# time.sleep(100)\n",
    "# scrape_team_stats_range(\n",
    "#     start_date=NHL_SEASONS[20212022]['start'],\n",
    "#     end_date=NHL_SEASONS[20212022]['regular_end'],\n",
    "#     db_prefix=db_prefix,\n",
    "#     delay_min=65,\n",
    "#     delay_max=90,\n",
    "#     situation='pp'\n",
    "# )\n",
    "# time.sleep(100)\n",
    "# scrape_team_stats_range(\n",
    "#     start_date=NHL_SEASONS[20202021]['start'],\n",
    "#     end_date=NHL_SEASONS[20202021]['regular_end'],\n",
    "#     db_prefix=db_prefix,\n",
    "#     delay_min=65,\n",
    "#     delay_max=90,\n",
    "#     situation='pp'\n",
    "# )"
   ]
  },
  {
   "cell_type": "code",
   "execution_count": 11,
   "metadata": {},
   "outputs": [
    {
     "name": "stderr",
     "output_type": "stream",
     "text": [
      "INFO:src.db.nst_db_utils:\n",
      "    Team stats scraping completed:\n",
      "    - Successful scrapes: 0\n",
      "    - Failed scrapes: 0\n",
      "    - Date range: 2024-02-04 to 2022-01-04\n",
      "    - Table: team_stats_pk\n",
      "    \n"
     ]
    }
   ],
   "source": [
    "scrape_team_stats_range(\n",
    "    start_date=\"2024-02-04\",\n",
    "    end_date=\"2022-01-04\",\n",
    "    db_prefix=db_prefix,\n",
    "    delay_min=65,\n",
    "    delay_max=90,\n",
    "    situation='pk'\n",
    ")"
   ]
  },
  {
   "cell_type": "code",
   "execution_count": 12,
   "metadata": {},
   "outputs": [],
   "source": [
    "# table_name = \"team_stats_pp\"\n",
    "\n",
    "# # Add home/away data for a specific date range\n",
    "# add_home_away_data_from_nhl_api(\n",
    "#     start_date=NHL_SEASONS[20212022]['start'],\n",
    "#     end_date=NHL_SEASONS[20212022]['regular_end'],\n",
    "#     table_name=table_name  # Or any other table you want to update\n",
    "# )\n",
    "# # Add home/away data for a specific date range\n",
    "# add_home_away_data_from_nhl_api(\n",
    "#     start_date=NHL_SEASONS[20222023]['start'],\n",
    "#     end_date=NHL_SEASONS[20222023]['regular_end'],\n",
    "#     table_name=table_name  # Or any other table you want to update\n",
    "# )\n",
    "# # Add home/away data for a specific date range\n",
    "# add_home_away_data_from_nhl_api(\n",
    "#     start_date=NHL_SEASONS[20232024]['start'],\n",
    "#     end_date=NHL_SEASONS[20232024]['regular_end'],\n",
    "#     table_name=table_name  # Or any other table you want to update\n",
    "# )\n",
    "# # Add home/away data for a specific date range\n",
    "# add_home_away_data_from_nhl_api(\n",
    "#     start_date=NHL_SEASONS[20242025]['start'],\n",
    "#     end_date='2025-02-24',\n",
    "#     table_name=table_name  # Or any other table you want to update\n",
    "# )"
   ]
  },
  {
   "cell_type": "code",
   "execution_count": 15,
   "metadata": {},
   "outputs": [
    {
     "name": "stderr",
     "output_type": "stream",
     "text": [
      "INFO:src.db.nst_db_utils:Step 1: Scraping team stats data for 2025-02-24 to 2025-02-28\n",
      "INFO:src.db.nst_db_utils:Scraping team data for date: 2025-02-24\n",
      "INFO:src.db.nst_db_utils:Team Stats DataFrame shape: (4, 73)\n",
      "INFO:src.db.nst_db_utils:Team Stats DataFrame columns: ['team', 'gp', 'toi', 'w', 'l', 'otl', 'row', 'points', 'point_%', 'cf', 'ca', 'cf%', 'ff', 'fa', 'ff%', 'sf', 'sa', 'sf%', 'gf', 'ga', 'gf%', 'xgf', 'xga', 'xgf%', 'scf', 'sca', 'scf%', 'scsf', 'scsa', 'scsf%', 'scgf', 'scga', 'scgf%', 'scsh%', 'scsv%', 'hdcf', 'hdca', 'hdcf%', 'hdsf', 'hdsa', 'hdsf%', 'hdgf', 'hdga', 'hdgf%', 'hdsh%', 'hdsv%', 'mdcf', 'mdca', 'mdcf%', 'mdsf', 'mdsa', 'mdsf%', 'mdgf', 'mdga', 'mdgf%', 'mdsh%', 'mdsv%', 'ldcf', 'ldca', 'ldcf%', 'ldsf', 'ldsa', 'ldsf%', 'ldgf', 'ldga', 'ldgf%', 'ldsh%', 'ldsv%', 'sh%', 'sv%', 'pdo', 'date', 'season']\n",
      "INFO:src.db.base_utils:Database connection established.\n",
      "INFO:src.db.nst_db_utils:Cleaned columns: ['team', 'gp', 'toi', 'w', 'l', 'otl', 'row', 'points', 'point_pct', 'cf', 'ca', 'cf_pct', 'ff', 'fa', 'ff_pct', 'sf', 'sa', 'sf_pct', 'gf', 'ga', 'gf_pct', 'xgf', 'xga', 'xgf_pct', 'scf', 'sca', 'scf_pct', 'scsf', 'scsa', 'scsf_pct', 'scgf', 'scga', 'scgf_pct', 'scsh_pct', 'scsv_pct', 'hdcf', 'hdca', 'hdcf_pct', 'hdsf', 'hdsa', 'hdsf_pct', 'hdgf', 'hdga', 'hdgf_pct', 'hdsh_pct', 'hdsv_pct', 'mdcf', 'mdca', 'mdcf_pct', 'mdsf', 'mdsa', 'mdsf_pct', 'mdgf', 'mdga', 'mdgf_pct', 'mdsh_pct', 'mdsv_pct', 'ldcf', 'ldca', 'ldcf_pct', 'ldsf', 'ldsa', 'ldsf_pct', 'ldgf', 'ldga', 'ldgf_pct', 'ldsh_pct', 'ldsv_pct', 'sh_pct', 'sv_pct', 'pdo', 'date', 'season']\n",
      "INFO:src.db.nst_db_utils:Successfully saved team data for 2025-02-24\n",
      "INFO:src.db.base_utils:Database connection closed.\n",
      "INFO:src.db.nst_db_utils:Waiting 88.3 seconds before next request...\n",
      "INFO:src.db.nst_db_utils:Scraping team data for date: 2025-02-25\n",
      "INFO:src.db.nst_db_utils:Team Stats DataFrame shape: (24, 73)\n",
      "INFO:src.db.nst_db_utils:Team Stats DataFrame columns: ['team', 'gp', 'toi', 'w', 'l', 'otl', 'row', 'points', 'point_%', 'cf', 'ca', 'cf%', 'ff', 'fa', 'ff%', 'sf', 'sa', 'sf%', 'gf', 'ga', 'gf%', 'xgf', 'xga', 'xgf%', 'scf', 'sca', 'scf%', 'scsf', 'scsa', 'scsf%', 'scgf', 'scga', 'scgf%', 'scsh%', 'scsv%', 'hdcf', 'hdca', 'hdcf%', 'hdsf', 'hdsa', 'hdsf%', 'hdgf', 'hdga', 'hdgf%', 'hdsh%', 'hdsv%', 'mdcf', 'mdca', 'mdcf%', 'mdsf', 'mdsa', 'mdsf%', 'mdgf', 'mdga', 'mdgf%', 'mdsh%', 'mdsv%', 'ldcf', 'ldca', 'ldcf%', 'ldsf', 'ldsa', 'ldsf%', 'ldgf', 'ldga', 'ldgf%', 'ldsh%', 'ldsv%', 'sh%', 'sv%', 'pdo', 'date', 'season']\n",
      "INFO:src.db.base_utils:Database connection established.\n",
      "INFO:src.db.nst_db_utils:Cleaned columns: ['team', 'gp', 'toi', 'w', 'l', 'otl', 'row', 'points', 'point_pct', 'cf', 'ca', 'cf_pct', 'ff', 'fa', 'ff_pct', 'sf', 'sa', 'sf_pct', 'gf', 'ga', 'gf_pct', 'xgf', 'xga', 'xgf_pct', 'scf', 'sca', 'scf_pct', 'scsf', 'scsa', 'scsf_pct', 'scgf', 'scga', 'scgf_pct', 'scsh_pct', 'scsv_pct', 'hdcf', 'hdca', 'hdcf_pct', 'hdsf', 'hdsa', 'hdsf_pct', 'hdgf', 'hdga', 'hdgf_pct', 'hdsh_pct', 'hdsv_pct', 'mdcf', 'mdca', 'mdcf_pct', 'mdsf', 'mdsa', 'mdsf_pct', 'mdgf', 'mdga', 'mdgf_pct', 'mdsh_pct', 'mdsv_pct', 'ldcf', 'ldca', 'ldcf_pct', 'ldsf', 'ldsa', 'ldsf_pct', 'ldgf', 'ldga', 'ldgf_pct', 'ldsh_pct', 'ldsv_pct', 'sh_pct', 'sv_pct', 'pdo', 'date', 'season']\n",
      "INFO:src.db.nst_db_utils:Successfully saved team data for 2025-02-25\n",
      "INFO:src.db.base_utils:Database connection closed.\n",
      "INFO:src.db.nst_db_utils:Waiting 82.2 seconds before next request...\n",
      "INFO:src.db.nst_db_utils:Scraping team data for date: 2025-02-26\n",
      "INFO:src.db.nst_db_utils:Team Stats DataFrame shape: (6, 73)\n",
      "INFO:src.db.nst_db_utils:Team Stats DataFrame columns: ['team', 'gp', 'toi', 'w', 'l', 'otl', 'row', 'points', 'point_%', 'cf', 'ca', 'cf%', 'ff', 'fa', 'ff%', 'sf', 'sa', 'sf%', 'gf', 'ga', 'gf%', 'xgf', 'xga', 'xgf%', 'scf', 'sca', 'scf%', 'scsf', 'scsa', 'scsf%', 'scgf', 'scga', 'scgf%', 'scsh%', 'scsv%', 'hdcf', 'hdca', 'hdcf%', 'hdsf', 'hdsa', 'hdsf%', 'hdgf', 'hdga', 'hdgf%', 'hdsh%', 'hdsv%', 'mdcf', 'mdca', 'mdcf%', 'mdsf', 'mdsa', 'mdsf%', 'mdgf', 'mdga', 'mdgf%', 'mdsh%', 'mdsv%', 'ldcf', 'ldca', 'ldcf%', 'ldsf', 'ldsa', 'ldsf%', 'ldgf', 'ldga', 'ldgf%', 'ldsh%', 'ldsv%', 'sh%', 'sv%', 'pdo', 'date', 'season']\n",
      "INFO:src.db.base_utils:Database connection established.\n",
      "INFO:src.db.nst_db_utils:Cleaned columns: ['team', 'gp', 'toi', 'w', 'l', 'otl', 'row', 'points', 'point_pct', 'cf', 'ca', 'cf_pct', 'ff', 'fa', 'ff_pct', 'sf', 'sa', 'sf_pct', 'gf', 'ga', 'gf_pct', 'xgf', 'xga', 'xgf_pct', 'scf', 'sca', 'scf_pct', 'scsf', 'scsa', 'scsf_pct', 'scgf', 'scga', 'scgf_pct', 'scsh_pct', 'scsv_pct', 'hdcf', 'hdca', 'hdcf_pct', 'hdsf', 'hdsa', 'hdsf_pct', 'hdgf', 'hdga', 'hdgf_pct', 'hdsh_pct', 'hdsv_pct', 'mdcf', 'mdca', 'mdcf_pct', 'mdsf', 'mdsa', 'mdsf_pct', 'mdgf', 'mdga', 'mdgf_pct', 'mdsh_pct', 'mdsv_pct', 'ldcf', 'ldca', 'ldcf_pct', 'ldsf', 'ldsa', 'ldsf_pct', 'ldgf', 'ldga', 'ldgf_pct', 'ldsh_pct', 'ldsv_pct', 'sh_pct', 'sv_pct', 'pdo', 'date', 'season']\n",
      "INFO:src.db.nst_db_utils:Successfully saved team data for 2025-02-26\n",
      "INFO:src.db.base_utils:Database connection closed.\n",
      "INFO:src.db.nst_db_utils:Waiting 84.4 seconds before next request...\n",
      "INFO:src.db.nst_db_utils:Scraping team data for date: 2025-02-27\n",
      "INFO:src.db.nst_db_utils:Team Stats DataFrame shape: (24, 73)\n",
      "INFO:src.db.nst_db_utils:Team Stats DataFrame columns: ['team', 'gp', 'toi', 'w', 'l', 'otl', 'row', 'points', 'point_%', 'cf', 'ca', 'cf%', 'ff', 'fa', 'ff%', 'sf', 'sa', 'sf%', 'gf', 'ga', 'gf%', 'xgf', 'xga', 'xgf%', 'scf', 'sca', 'scf%', 'scsf', 'scsa', 'scsf%', 'scgf', 'scga', 'scgf%', 'scsh%', 'scsv%', 'hdcf', 'hdca', 'hdcf%', 'hdsf', 'hdsa', 'hdsf%', 'hdgf', 'hdga', 'hdgf%', 'hdsh%', 'hdsv%', 'mdcf', 'mdca', 'mdcf%', 'mdsf', 'mdsa', 'mdsf%', 'mdgf', 'mdga', 'mdgf%', 'mdsh%', 'mdsv%', 'ldcf', 'ldca', 'ldcf%', 'ldsf', 'ldsa', 'ldsf%', 'ldgf', 'ldga', 'ldgf%', 'ldsh%', 'ldsv%', 'sh%', 'sv%', 'pdo', 'date', 'season']\n",
      "INFO:src.db.base_utils:Database connection established.\n",
      "INFO:src.db.nst_db_utils:Cleaned columns: ['team', 'gp', 'toi', 'w', 'l', 'otl', 'row', 'points', 'point_pct', 'cf', 'ca', 'cf_pct', 'ff', 'fa', 'ff_pct', 'sf', 'sa', 'sf_pct', 'gf', 'ga', 'gf_pct', 'xgf', 'xga', 'xgf_pct', 'scf', 'sca', 'scf_pct', 'scsf', 'scsa', 'scsf_pct', 'scgf', 'scga', 'scgf_pct', 'scsh_pct', 'scsv_pct', 'hdcf', 'hdca', 'hdcf_pct', 'hdsf', 'hdsa', 'hdsf_pct', 'hdgf', 'hdga', 'hdgf_pct', 'hdsh_pct', 'hdsv_pct', 'mdcf', 'mdca', 'mdcf_pct', 'mdsf', 'mdsa', 'mdsf_pct', 'mdgf', 'mdga', 'mdgf_pct', 'mdsh_pct', 'mdsv_pct', 'ldcf', 'ldca', 'ldcf_pct', 'ldsf', 'ldsa', 'ldsf_pct', 'ldgf', 'ldga', 'ldgf_pct', 'ldsh_pct', 'ldsv_pct', 'sh_pct', 'sv_pct', 'pdo', 'date', 'season']\n",
      "INFO:src.db.nst_db_utils:Successfully saved team data for 2025-02-27\n",
      "INFO:src.db.base_utils:Database connection closed.\n",
      "INFO:src.db.nst_db_utils:Waiting 86.8 seconds before next request...\n",
      "INFO:src.db.nst_db_utils:Scraping team data for date: 2025-02-28\n",
      "INFO:src.db.nst_db_utils:Team Stats DataFrame shape: (6, 73)\n",
      "INFO:src.db.nst_db_utils:Team Stats DataFrame columns: ['team', 'gp', 'toi', 'w', 'l', 'otl', 'row', 'points', 'point_%', 'cf', 'ca', 'cf%', 'ff', 'fa', 'ff%', 'sf', 'sa', 'sf%', 'gf', 'ga', 'gf%', 'xgf', 'xga', 'xgf%', 'scf', 'sca', 'scf%', 'scsf', 'scsa', 'scsf%', 'scgf', 'scga', 'scgf%', 'scsh%', 'scsv%', 'hdcf', 'hdca', 'hdcf%', 'hdsf', 'hdsa', 'hdsf%', 'hdgf', 'hdga', 'hdgf%', 'hdsh%', 'hdsv%', 'mdcf', 'mdca', 'mdcf%', 'mdsf', 'mdsa', 'mdsf%', 'mdgf', 'mdga', 'mdgf%', 'mdsh%', 'mdsv%', 'ldcf', 'ldca', 'ldcf%', 'ldsf', 'ldsa', 'ldsf%', 'ldgf', 'ldga', 'ldgf%', 'ldsh%', 'ldsv%', 'sh%', 'sv%', 'pdo', 'date', 'season']\n",
      "INFO:src.db.base_utils:Database connection established.\n",
      "INFO:src.db.nst_db_utils:Cleaned columns: ['team', 'gp', 'toi', 'w', 'l', 'otl', 'row', 'points', 'point_pct', 'cf', 'ca', 'cf_pct', 'ff', 'fa', 'ff_pct', 'sf', 'sa', 'sf_pct', 'gf', 'ga', 'gf_pct', 'xgf', 'xga', 'xgf_pct', 'scf', 'sca', 'scf_pct', 'scsf', 'scsa', 'scsf_pct', 'scgf', 'scga', 'scgf_pct', 'scsh_pct', 'scsv_pct', 'hdcf', 'hdca', 'hdcf_pct', 'hdsf', 'hdsa', 'hdsf_pct', 'hdgf', 'hdga', 'hdgf_pct', 'hdsh_pct', 'hdsv_pct', 'mdcf', 'mdca', 'mdcf_pct', 'mdsf', 'mdsa', 'mdsf_pct', 'mdgf', 'mdga', 'mdgf_pct', 'mdsh_pct', 'mdsv_pct', 'ldcf', 'ldca', 'ldcf_pct', 'ldsf', 'ldsa', 'ldsf_pct', 'ldgf', 'ldga', 'ldgf_pct', 'ldsh_pct', 'ldsv_pct', 'sh_pct', 'sv_pct', 'pdo', 'date', 'season']\n",
      "INFO:src.db.nst_db_utils:Successfully saved team data for 2025-02-28\n",
      "INFO:src.db.base_utils:Database connection closed.\n",
      "INFO:src.db.nst_db_utils:\n",
      "    Team stats scraping completed:\n",
      "    - Successful scrapes: 5\n",
      "    - Failed scrapes: 0\n",
      "    - Date range: 2025-02-24 to 2025-02-28\n",
      "    - Table: team_stats_5v5\n",
      "    \n",
      "INFO:src.db.nst_db_utils:Step 2: Adding home/away information for 2025-02-24 to 2025-02-28\n",
      "INFO:src.db.base_utils:Database connection established.\n",
      "INFO:src.db.base_utils:Database connection established.\n",
      "INFO:src.db.base_utils:Database connection closed.\n",
      "INFO:src.db.nst_db_utils:Found 64 team-date combinations in the database\n",
      "INFO:src.db.nst_db_utils:Sample data (date, team): [('2025-02-25', 'Detroit Red Wings'), ('2025-02-25', 'New York Islanders'), ('2025-02-27', 'Boston Bruins'), ('2025-02-24', 'Vegas Golden Knights'), ('2025-02-26', 'New Jersey Devils')]\n",
      "INFO:src.db.nst_db_utils:Processing games for date: 2025-02-24\n",
      "INFO:src.db.nst_db_utils:Found 2 games using direct schedule endpoint\n",
      "INFO:src.db.nst_db_utils:Game: San Jose Sharks @ Winnipeg Jets on 2025-02-24 - Updated 2 records\n",
      "INFO:src.db.nst_db_utils:Game: Vegas Golden Knights @ Los Angeles Kings on 2025-02-24 - Updated 2 records\n",
      "INFO:src.db.nst_db_utils:Waiting 1.8 seconds before next request...\n",
      "INFO:src.db.nst_db_utils:Processing games for date: 2025-02-25\n",
      "INFO:src.db.nst_db_utils:Found 12 games using direct schedule endpoint\n",
      "INFO:src.db.nst_db_utils:Game: Toronto Maple Leafs @ Boston Bruins on 2025-02-25 - Updated 2 records\n",
      "INFO:src.db.nst_db_utils:Game: Anaheim Ducks @ Buffalo Sabres on 2025-02-25 - Updated 2 records\n",
      "INFO:src.db.nst_db_utils:Game: Carolina Hurricanes @ Montreal Canadiens on 2025-02-25 - Updated 2 records\n",
      "INFO:src.db.nst_db_utils:Game: Pittsburgh Penguins @ Philadelphia Flyers on 2025-02-25 - Updated 2 records\n",
      "INFO:src.db.nst_db_utils:Game: Calgary Flames @ Washington Capitals on 2025-02-25 - Updated 2 records\n",
      "INFO:src.db.nst_db_utils:Game: Dallas Stars @ Columbus Blue Jackets on 2025-02-25 - Updated 2 records\n",
      "INFO:src.db.nst_db_utils:Game: Edmonton Oilers @ Tampa Bay Lightning on 2025-02-25 - Updated 2 records\n",
      "INFO:src.db.nst_db_utils:Game: New York Rangers @ New York Islanders on 2025-02-25 - Updated 2 records\n",
      "INFO:src.db.nst_db_utils:Game: Seattle Kraken @ St Louis Blues on 2025-02-25 - Updated 2 records\n",
      "INFO:src.db.nst_db_utils:Game: Florida Panthers @ Nashville Predators on 2025-02-25 - Updated 2 records\n",
      "INFO:src.db.nst_db_utils:Game: Detroit Red Wings @ Minnesota Wild on 2025-02-25 - Updated 2 records\n",
      "INFO:src.db.nst_db_utils:Game: Chicago Blackhawks @ Utah Hockey Club on 2025-02-25 - Updated 2 records\n",
      "INFO:src.db.nst_db_utils:Waiting 2.1 seconds before next request...\n",
      "INFO:src.db.nst_db_utils:Processing games for date: 2025-02-26\n",
      "INFO:src.db.nst_db_utils:Found 3 games using direct schedule endpoint\n",
      "INFO:src.db.nst_db_utils:Game: Winnipeg Jets @ Ottawa Senators on 2025-02-26 - Updated 2 records\n",
      "INFO:src.db.nst_db_utils:Game: New Jersey Devils @ Colorado Avalanche on 2025-02-26 - Updated 2 records\n",
      "INFO:src.db.nst_db_utils:Game: Vancouver Canucks @ Los Angeles Kings on 2025-02-26 - Updated 2 records\n",
      "INFO:src.db.nst_db_utils:Waiting 2.4 seconds before next request...\n",
      "INFO:src.db.nst_db_utils:Processing games for date: 2025-02-27\n",
      "INFO:src.db.nst_db_utils:Found 12 games using direct schedule endpoint\n",
      "INFO:src.db.nst_db_utils:Game: New York Islanders @ Boston Bruins on 2025-02-27 - Updated 2 records\n",
      "INFO:src.db.nst_db_utils:Game: San Jose Sharks @ Montreal Canadiens on 2025-02-27 - Updated 2 records\n",
      "INFO:src.db.nst_db_utils:Game: Columbus Blue Jackets @ Detroit Red Wings on 2025-02-27 - Updated 2 records\n",
      "INFO:src.db.nst_db_utils:Game: Calgary Flames @ Tampa Bay Lightning on 2025-02-27 - Updated 2 records\n",
      "INFO:src.db.nst_db_utils:Game: Edmonton Oilers @ Florida Panthers on 2025-02-27 - Updated 2 records\n",
      "INFO:src.db.nst_db_utils:Game: St Louis Blues @ Washington Capitals on 2025-02-27 - Updated 2 records\n",
      "INFO:src.db.nst_db_utils:Game: Buffalo Sabres @ Carolina Hurricanes on 2025-02-27 - Updated 2 records\n",
      "INFO:src.db.nst_db_utils:Game: Philadelphia Flyers @ Pittsburgh Penguins on 2025-02-27 - Updated 2 records\n",
      "INFO:src.db.nst_db_utils:Game: Winnipeg Jets @ Nashville Predators on 2025-02-27 - Updated 2 records\n",
      "INFO:src.db.nst_db_utils:Game: Minnesota Wild @ Utah Hockey Club on 2025-02-27 - Updated 2 records\n",
      "INFO:src.db.nst_db_utils:Game: Chicago Blackhawks @ Vegas Golden Knights on 2025-02-27 - Updated 2 records\n",
      "INFO:src.db.nst_db_utils:Game: Vancouver Canucks @ Anaheim Ducks on 2025-02-27 - Updated 2 records\n",
      "INFO:src.db.nst_db_utils:Waiting 1.5 seconds before next request...\n",
      "INFO:src.db.nst_db_utils:Processing games for date: 2025-02-28\n",
      "INFO:src.db.nst_db_utils:Found 3 games using direct schedule endpoint\n",
      "INFO:src.db.nst_db_utils:Game: Toronto Maple Leafs @ New York Rangers on 2025-02-28 - Updated 2 records\n",
      "INFO:src.db.nst_db_utils:Game: Los Angeles Kings @ Dallas Stars on 2025-02-28 - Updated 2 records\n",
      "INFO:src.db.nst_db_utils:Game: Minnesota Wild @ Colorado Avalanche on 2025-02-28 - Updated 2 records\n",
      "INFO:src.db.base_utils:Database connection closed.\n",
      "INFO:src.db.nst_db_utils:\n",
      "    Home/away data update completed:\n",
      "    - Date range: 2025-02-24 to 2025-02-28\n",
      "    - Games processed: 32\n",
      "    - Team records updated: 64\n",
      "    - Table: team_stats_5v5\n",
      "    \n",
      "INFO:src.db.nst_db_utils:Completed populating and updating home/away data for 2025-02-24 to 2025-02-28\n"
     ]
    }
   ],
   "source": [
    "populate_and_update_home_away_data(\n",
    "    start_date='2025-02-24',\n",
    "    end_date='2025-02-28',\n",
    "    delay_min=65,\n",
    "    delay_max=90,\n",
    "    situation='5v5'\n",
    ")\n"
   ]
  }
 ],
 "metadata": {
  "kernelspec": {
   "display_name": ".venv",
   "language": "python",
   "name": "python3"
  },
  "language_info": {
   "codemirror_mode": {
    "name": "ipython",
    "version": 3
   },
   "file_extension": ".py",
   "mimetype": "text/x-python",
   "name": "python",
   "nbconvert_exporter": "python",
   "pygments_lexer": "ipython3",
   "version": "3.10.2"
  }
 },
 "nbformat": 4,
 "nbformat_minor": 2
}

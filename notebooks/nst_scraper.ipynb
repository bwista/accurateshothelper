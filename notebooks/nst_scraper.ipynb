{
 "cells": [
  {
   "cell_type": "code",
   "execution_count": 1,
   "metadata": {},
   "outputs": [
    {
     "name": "stdout",
     "output_type": "stream",
     "text": [
      "Current sys.path: ['C:\\\\Users\\\\H-100\\\\AppData\\\\Local\\\\Programs\\\\Python\\\\Python310\\\\python310.zip', 'C:\\\\Users\\\\H-100\\\\AppData\\\\Local\\\\Programs\\\\Python\\\\Python310\\\\DLLs', 'C:\\\\Users\\\\H-100\\\\AppData\\\\Local\\\\Programs\\\\Python\\\\Python310\\\\lib', 'C:\\\\Users\\\\H-100\\\\AppData\\\\Local\\\\Programs\\\\Python\\\\Python310', 'c:\\\\Users\\\\H-100\\\\Desktop\\\\python\\\\accurateshothelper\\\\.venv', '', 'c:\\\\Users\\\\H-100\\\\Desktop\\\\python\\\\accurateshothelper\\\\.venv\\\\lib\\\\site-packages', 'c:\\\\Users\\\\H-100\\\\Desktop\\\\python\\\\accurateshothelper\\\\.venv\\\\lib\\\\site-packages\\\\win32', 'c:\\\\Users\\\\H-100\\\\Desktop\\\\python\\\\accurateshothelper\\\\.venv\\\\lib\\\\site-packages\\\\win32\\\\lib', 'c:\\\\Users\\\\H-100\\\\Desktop\\\\python\\\\accurateshothelper\\\\.venv\\\\lib\\\\site-packages\\\\Pythonwin', 'c:\\\\Users\\\\H-100\\\\Desktop\\\\python\\\\accurateshothelper']\n"
     ]
    }
   ],
   "source": [
    "import os\n",
    "import sys\n",
    "import pandas as pd\n",
    "import requests\n",
    "import logging\n",
    "from datetime import datetime, timedelta\n",
    "import random\n",
    "import time\n",
    "import psycopg2\n",
    "from io import StringIO\n",
    "from dotenv import load_dotenv\n",
    "\n",
    "# Add project root to sys.path\n",
    "current_dir = os.getcwd()\n",
    "project_root = os.path.abspath(os.path.join(current_dir, '..'))\n",
    "if project_root not in sys.path:\n",
    "    sys.path.append(project_root)\n",
    "\n",
    "# Verify sys.path\n",
    "print(\"Current sys.path:\", sys.path)\n",
    "\n",
    "from src.data_processing.nst_scraper import nst_on_ice_scraper, nst_team_on_ice_scraper\n",
    "from src.db.nst_db_utils import *\n",
    "\n",
    "\n",
    "pd.set_option('display.max_columns', None)\n"
   ]
  },
  {
   "cell_type": "code",
   "execution_count": 2,
   "metadata": {},
   "outputs": [],
   "source": [
    "# nst_team_on_ice_scraper(startdate='', enddate='2024-10-12',last_n=30)\n",
    "# df = nst_on_ice_scraper(startdate='', enddate='2024-10-09', last_n=30, rate='y', lines='single') "
   ]
  },
  {
   "cell_type": "code",
   "execution_count": 3,
   "metadata": {},
   "outputs": [],
   "source": [
    "# goalie_stats_df = nst_on_ice_scraper(\n",
    "#             startdate='2024-10-12',\n",
    "#             enddate='2024-10-12',\n",
    "#             pos='G',\n",
    "#             rate='n',\n",
    "#             stdoi='g',\n",
    "#             lines='single'\n",
    "#         )\n"
   ]
  },
  {
   "cell_type": "code",
   "execution_count": 4,
   "metadata": {},
   "outputs": [],
   "source": [
    "# Configure logging\n",
    "logging.basicConfig(level=logging.INFO)\n",
    "logger = logging.getLogger(__name__)"
   ]
  },
  {
   "cell_type": "code",
   "execution_count": 5,
   "metadata": {},
   "outputs": [],
   "source": [
    "# Load environment variables from .env file\n",
    "load_dotenv()\n",
    "\n",
    "db_prefix = 'NST_DB_'"
   ]
  },
  {
   "cell_type": "code",
   "execution_count": 6,
   "metadata": {},
   "outputs": [],
   "source": [
    "NHL_SEASONS = {\n",
    "    20242025: {\n",
    "        'start': '2024-10-04',\n",
    "        'regular_end': '2025-04-18',  # Estimated\n",
    "        'playoff_end': '2025-06-30'  # Estimated\n",
    "    },\n",
    "    20232024: {\n",
    "        'start': '2023-10-10',\n",
    "        'regular_end': '2024-04-18',\n",
    "        'playoff_end': '2024-06-24'\n",
    "    },\n",
    "    20222023: {\n",
    "        'start': '2022-10-07',\n",
    "        'regular_end': '2023-04-14',\n",
    "        'playoff_end': '2023-06-13'\n",
    "    },\n",
    "    20212022: {\n",
    "        'start': '2021-10-12',\n",
    "        'regular_end': '2022-04-29',\n",
    "        'playoff_end': '2022-06-26'\n",
    "    },\n",
    "    20202021: {\n",
    "        'start': '2021-01-13',\n",
    "        'regular_end': '2021-05-19',\n",
    "        'playoff_end': '2021-07-07'  # Covid-shortened season\n",
    "    }\n",
    "}"
   ]
  },
  {
   "cell_type": "code",
   "execution_count": 7,
   "metadata": {},
   "outputs": [],
   "source": [
    "# scrape_goalie_stats_range(\n",
    "#         start_date='2023-03-01',\n",
    "#         end_date='2023-04-14',\n",
    "#         db_prefix=db_prefix,  # Make sure this matches your environment variables\n",
    "#         delay_min=90,\n",
    "#         delay_max=120,\n",
    "#         situation='pk'\n",
    "#     )"
   ]
  },
  {
   "cell_type": "code",
   "execution_count": 8,
   "metadata": {},
   "outputs": [],
   "source": [
    "# nst_team_on_ice_scraper(\n",
    "#                 startdate='2025-02-24',\n",
    "#                 enddate='2025-02-24',\n",
    "#                 sit='5v5',\n",
    "#                 stype=2\n",
    "#             )\n"
   ]
  },
  {
   "cell_type": "code",
   "execution_count": 9,
   "metadata": {},
   "outputs": [
    {
     "data": {
      "text/plain": [
       "'2023-06-13'"
      ]
     },
     "execution_count": 9,
     "metadata": {},
     "output_type": "execute_result"
    }
   ],
   "source": [
    "NHL_SEASONS[20222023]['playoff_end']"
   ]
  },
  {
   "cell_type": "code",
   "execution_count": 10,
   "metadata": {},
   "outputs": [],
   "source": [
    "# scrape_team_stats_range(\n",
    "#     start_date=NHL_SEASONS[20242025]['start'],\n",
    "#     end_date='2025-02-25',\n",
    "#     db_prefix=db_prefix,\n",
    "#     delay_min=65,\n",
    "#     delay_max=90,\n",
    "#     situation='pp'\n",
    "# )\n",
    "# time.sleep(100)\n",
    "# scrape_team_stats_range(\n",
    "#     start_date=NHL_SEASONS[20232024]['start'],\n",
    "#     end_date=NHL_SEASONS[20232024]['regular_end'],\n",
    "#     db_prefix=db_prefix,\n",
    "#     delay_min=65,\n",
    "#     delay_max=90,\n",
    "#     situation='pp'\n",
    "# )\n",
    "# time.sleep(100)\n",
    "# scrape_team_stats_range(\n",
    "#     start_date=NHL_SEASONS[20222023]['start'],\n",
    "#     end_date=NHL_SEASONS[20222023]['regular_end'],\n",
    "#     db_prefix=db_prefix,\n",
    "#     delay_min=65,\n",
    "#     delay_max=90,\n",
    "#     situation='pp'\n",
    "# )\n",
    "# time.sleep(100)\n",
    "# scrape_team_stats_range(\n",
    "#     start_date=NHL_SEASONS[20212022]['start'],\n",
    "#     end_date=NHL_SEASONS[20212022]['regular_end'],\n",
    "#     db_prefix=db_prefix,\n",
    "#     delay_min=65,\n",
    "#     delay_max=90,\n",
    "#     situation='pp'\n",
    "# )\n",
    "# time.sleep(100)\n",
    "# scrape_team_stats_range(\n",
    "#     start_date=NHL_SEASONS[20202021]['start'],\n",
    "#     end_date=NHL_SEASONS[20202021]['regular_end'],\n",
    "#     db_prefix=db_prefix,\n",
    "#     delay_min=65,\n",
    "#     delay_max=90,\n",
    "#     situation='pp'\n",
    "# )"
   ]
  },
  {
   "cell_type": "code",
   "execution_count": 11,
   "metadata": {},
   "outputs": [],
   "source": [
    "# scrape_team_stats_range(\n",
    "#     start_date=\"2022-01-04\",\n",
    "#     end_date=NHL_SEASONS[20212022]['regular_end'],\n",
    "#     db_prefix=db_prefix,\n",
    "#     delay_min=65,\n",
    "#     delay_max=90,\n",
    "#     situation='pk'\n",
    "# )"
   ]
  },
  {
   "cell_type": "code",
   "execution_count": 12,
   "metadata": {},
   "outputs": [
    {
     "name": "stderr",
     "output_type": "stream",
     "text": [
      "INFO:src.db.base_utils:Database connection established.\n",
      "INFO:src.db.base_utils:Database connection established.\n",
      "INFO:src.db.base_utils:Database connection closed.\n",
      "INFO:src.db.nst_db_utils:Found 262 team-date combinations in the database\n",
      "INFO:src.db.nst_db_utils:Sample data (date, team): [('2021-10-26', 'Winnipeg Jets'), ('2021-10-27', 'Washington Capitals'), ('2021-10-21', 'New York Rangers'), ('2021-10-23', 'Arizona Coyotes'), ('2021-10-14', 'Ottawa Senators')]\n",
      "INFO:src.db.nst_db_utils:Processing games for date: 2021-10-12\n",
      "INFO:src.db.nst_db_utils:Found 2 games using direct schedule endpoint\n",
      "INFO:src.db.nst_db_utils:Game: Pittsburgh Penguins @ Tampa Bay Lightning on 2021-10-12 - Updated 2 records\n",
      "INFO:src.db.nst_db_utils:Game: Seattle Kraken @ Vegas Golden Knights on 2021-10-12 - Updated 2 records\n",
      "INFO:src.db.nst_db_utils:Waiting 1.6 seconds before next request...\n",
      "INFO:src.db.nst_db_utils:Processing games for date: 2021-10-13\n",
      "INFO:src.db.nst_db_utils:Found 5 games using direct schedule endpoint\n",
      "INFO:src.db.nst_db_utils:Game: Montreal Canadiens @ Toronto Maple Leafs on 2021-10-13 - Updated 2 records\n",
      "INFO:src.db.nst_db_utils:Game: New York Rangers @ Washington Capitals on 2021-10-13 - Updated 2 records\n",
      "INFO:src.db.nst_db_utils:Game: Chicago Blackhawks @ Colorado Avalanche on 2021-10-13 - Updated 2 records\n",
      "INFO:src.db.nst_db_utils:Game: Vancouver Canucks @ Edmonton Oilers on 2021-10-13 - Updated 2 records\n",
      "INFO:src.db.nst_db_utils:Game: Winnipeg Jets @ Anaheim Ducks on 2021-10-13 - Updated 2 records\n",
      "INFO:src.db.nst_db_utils:Waiting 2.3 seconds before next request...\n",
      "INFO:src.db.nst_db_utils:Processing games for date: 2021-10-14\n",
      "INFO:src.db.nst_db_utils:Found 9 games using direct schedule endpoint\n",
      "INFO:src.db.nst_db_utils:Game: Montreal Canadiens @ Buffalo Sabres on 2021-10-14 - Updated 2 records\n",
      "INFO:src.db.nst_db_utils:Game: Toronto Maple Leafs @ Ottawa Senators on 2021-10-14 - Updated 2 records\n",
      "INFO:src.db.nst_db_utils:Game: Pittsburgh Penguins @ Florida Panthers on 2021-10-14 - Updated 2 records\n",
      "INFO:src.db.nst_db_utils:Game: Dallas Stars @ New York Rangers on 2021-10-14 - Updated 2 records\n",
      "INFO:src.db.nst_db_utils:Game: New York Islanders @ Carolina Hurricanes on 2021-10-14 - Updated 2 records\n",
      "INFO:src.db.nst_db_utils:Game: Arizona Coyotes @ Columbus Blue Jackets on 2021-10-14 - Updated 2 records\n",
      "INFO:src.db.nst_db_utils:Game: Tampa Bay Lightning @ Detroit Red Wings on 2021-10-14 - Updated 2 records\n",
      "INFO:src.db.nst_db_utils:Game: Seattle Kraken @ Nashville Predators on 2021-10-14 - Updated 2 records\n",
      "INFO:src.db.nst_db_utils:Game: Vegas Golden Knights @ Los Angeles Kings on 2021-10-14 - Updated 2 records\n",
      "INFO:src.db.nst_db_utils:Waiting 2.8 seconds before next request...\n"
     ]
    },
    {
     "ename": "KeyboardInterrupt",
     "evalue": "",
     "output_type": "error",
     "traceback": [
      "\u001b[1;31m---------------------------------------------------------------------------\u001b[0m",
      "\u001b[1;31mKeyboardInterrupt\u001b[0m                         Traceback (most recent call last)",
      "Cell \u001b[1;32mIn[12], line 4\u001b[0m\n\u001b[0;32m      1\u001b[0m \u001b[38;5;28;01mfrom\u001b[39;00m \u001b[38;5;21;01msrc\u001b[39;00m\u001b[38;5;21;01m.\u001b[39;00m\u001b[38;5;21;01mdb\u001b[39;00m\u001b[38;5;21;01m.\u001b[39;00m\u001b[38;5;21;01mnst_db_utils\u001b[39;00m \u001b[38;5;28;01mimport\u001b[39;00m add_home_away_data_from_nhl_api\n\u001b[0;32m      3\u001b[0m \u001b[38;5;66;03m# Add home/away data for a specific date range\u001b[39;00m\n\u001b[1;32m----> 4\u001b[0m \u001b[43madd_home_away_data_from_nhl_api\u001b[49m\u001b[43m(\u001b[49m\n\u001b[0;32m      5\u001b[0m \u001b[43m    \u001b[49m\u001b[43mstart_date\u001b[49m\u001b[38;5;241;43m=\u001b[39;49m\u001b[38;5;124;43m\"\u001b[39;49m\u001b[38;5;124;43m2021-10-12\u001b[39;49m\u001b[38;5;124;43m\"\u001b[39;49m\u001b[43m,\u001b[49m\n\u001b[0;32m      6\u001b[0m \u001b[43m    \u001b[49m\u001b[43mend_date\u001b[49m\u001b[38;5;241;43m=\u001b[39;49m\u001b[38;5;124;43m\"\u001b[39;49m\u001b[38;5;124;43m2021-10-31\u001b[39;49m\u001b[38;5;124;43m\"\u001b[39;49m\u001b[43m,\u001b[49m\n\u001b[0;32m      7\u001b[0m \u001b[43m    \u001b[49m\u001b[43mtable_name\u001b[49m\u001b[38;5;241;43m=\u001b[39;49m\u001b[38;5;124;43m\"\u001b[39;49m\u001b[38;5;124;43mteam_stats_5v5\u001b[39;49m\u001b[38;5;124;43m\"\u001b[39;49m\u001b[43m  \u001b[49m\u001b[38;5;66;43;03m# Or any other table you want to update\u001b[39;49;00m\n\u001b[0;32m      8\u001b[0m \u001b[43m)\u001b[49m\n",
      "File \u001b[1;32mc:\\Users\\H-100\\Desktop\\python\\accurateshothelper\\src\\db\\nst_db_utils.py:1575\u001b[0m, in \u001b[0;36madd_home_away_data_from_nhl_api\u001b[1;34m(start_date, end_date, db_prefix, table_name, delay_min, delay_max)\u001b[0m\n\u001b[0;32m   1573\u001b[0m     delay \u001b[38;5;241m=\u001b[39m random\u001b[38;5;241m.\u001b[39muniform(delay_min, delay_max)\n\u001b[0;32m   1574\u001b[0m     logger\u001b[38;5;241m.\u001b[39minfo(\u001b[38;5;124mf\u001b[39m\u001b[38;5;124m\"\u001b[39m\u001b[38;5;124mWaiting \u001b[39m\u001b[38;5;132;01m{\u001b[39;00mdelay\u001b[38;5;132;01m:\u001b[39;00m\u001b[38;5;124m.1f\u001b[39m\u001b[38;5;132;01m}\u001b[39;00m\u001b[38;5;124m seconds before next request...\u001b[39m\u001b[38;5;124m\"\u001b[39m)\n\u001b[1;32m-> 1575\u001b[0m     \u001b[43mtime\u001b[49m\u001b[38;5;241;43m.\u001b[39;49m\u001b[43msleep\u001b[49m\u001b[43m(\u001b[49m\u001b[43mdelay\u001b[49m\u001b[43m)\u001b[49m\n\u001b[0;32m   1577\u001b[0m \u001b[38;5;66;03m# Move to next day\u001b[39;00m\n\u001b[0;32m   1578\u001b[0m current_date \u001b[38;5;241m+\u001b[39m\u001b[38;5;241m=\u001b[39m timedelta(days\u001b[38;5;241m=\u001b[39m\u001b[38;5;241m1\u001b[39m)\n",
      "\u001b[1;31mKeyboardInterrupt\u001b[0m: "
     ]
    }
   ],
   "source": [
    "from src.db.nst_db_utils import add_home_away_data_from_nhl_api\n",
    "\n",
    "# Add home/away data for a specific date range\n",
    "add_home_away_data_from_nhl_api(\n",
    "    start_date=\"2021-10-12\",\n",
    "    end_date=\"2021-10-31\",\n",
    "    table_name=\"team_stats_5v5\"  # Or any other table you want to update\n",
    ")"
   ]
  }
 ],
 "metadata": {
  "kernelspec": {
   "display_name": ".venv",
   "language": "python",
   "name": "python3"
  },
  "language_info": {
   "codemirror_mode": {
    "name": "ipython",
    "version": 3
   },
   "file_extension": ".py",
   "mimetype": "text/x-python",
   "name": "python",
   "nbconvert_exporter": "python",
   "pygments_lexer": "ipython3",
   "version": "3.10.2"
  }
 },
 "nbformat": 4,
 "nbformat_minor": 2
}

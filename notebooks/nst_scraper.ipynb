{
 "cells": [
  {
   "cell_type": "code",
   "execution_count": 2,
   "metadata": {},
   "outputs": [
    {
     "name": "stdout",
     "output_type": "stream",
     "text": [
      "Current sys.path: ['/Library/Frameworks/Python.framework/Versions/3.12/lib/python312.zip', '/Library/Frameworks/Python.framework/Versions/3.12/lib/python3.12', '/Library/Frameworks/Python.framework/Versions/3.12/lib/python3.12/lib-dynload', '', '/Users/jweinga/Documents/python/accurateshothelper/.venv/lib/python3.12/site-packages', '/Users/jweinga/Documents/python/accurateshothelper']\n"
     ]
    }
   ],
   "source": [
    "import os\n",
    "import sys\n",
    "import pandas as pd\n",
    "import requests\n",
    "import logging\n",
    "from datetime import datetime, timedelta\n",
    "import random\n",
    "import time\n",
    "import psycopg2\n",
    "from io import StringIO\n",
    "from dotenv import load_dotenv\n",
    "\n",
    "# Add project root to sys.path\n",
    "current_dir = os.getcwd()\n",
    "project_root = os.path.abspath(os.path.join(current_dir, '..'))\n",
    "if project_root not in sys.path:\n",
    "    sys.path.append(project_root)\n",
    "\n",
    "# Verify sys.path\n",
    "print(\"Current sys.path:\", sys.path)\n",
    "\n",
    "from src.data_processing.nst_scraper import nst_on_ice_scraper, nst_team_on_ice_scraper\n",
    "from src.db.nst_db_utils import insert_goalie_stats_df, scrape_goalie_stats_range, scrape_team_stats_range\n",
    "\n",
    "\n",
    "pd.set_option('display.max_columns', None)\n"
   ]
  },
  {
   "cell_type": "code",
   "execution_count": 3,
   "metadata": {},
   "outputs": [],
   "source": [
    "# nst_team_on_ice_scraper(startdate='', enddate='2024-10-12',last_n=30)\n",
    "# df = nst_on_ice_scraper(startdate='', enddate='2024-10-09', last_n=30, rate='y', lines='single') "
   ]
  },
  {
   "cell_type": "code",
   "execution_count": 4,
   "metadata": {},
   "outputs": [],
   "source": [
    "# goalie_stats_df = nst_on_ice_scraper(\n",
    "#             startdate='2024-10-12',\n",
    "#             enddate='2024-10-12',\n",
    "#             pos='G',\n",
    "#             rate='n',\n",
    "#             stdoi='g',\n",
    "#             lines='single'\n",
    "#         )\n"
   ]
  },
  {
   "cell_type": "code",
   "execution_count": 5,
   "metadata": {},
   "outputs": [],
   "source": [
    "# Configure logging\n",
    "logging.basicConfig(level=logging.INFO)\n",
    "logger = logging.getLogger(__name__)"
   ]
  },
  {
   "cell_type": "code",
   "execution_count": 6,
   "metadata": {},
   "outputs": [],
   "source": [
    "# Load environment variables from .env file\n",
    "load_dotenv()\n",
    "\n",
    "db_prefix = 'NST_DB_'"
   ]
  },
  {
   "cell_type": "code",
   "execution_count": 12,
   "metadata": {},
   "outputs": [],
   "source": [
    "NHL_SEASONS = {\n",
    "    20242025: {\n",
    "        'start': '2024-10-04',\n",
    "        'regular_end': '2025-04-18',  # Estimated\n",
    "        'playoff_end': '2025-06-30'  # Estimated\n",
    "    },\n",
    "    20232024: {\n",
    "        'start': '2023-10-10',\n",
    "        'regular_end': '2024-04-18',\n",
    "        'playoff_end': '2024-06-24'\n",
    "    },\n",
    "    20222023: {\n",
    "        'start': '2022-10-07',\n",
    "        'regular_end': '2023-04-14',\n",
    "        'playoff_end': '2023-06-13'\n",
    "    },\n",
    "    20212022: {\n",
    "        'start': '2021-10-12',\n",
    "        'regular_end': '2022-04-29',\n",
    "        'playoff_end': '2022-06-26'\n",
    "    },\n",
    "    20202021: {\n",
    "        'start': '2021-01-13',\n",
    "        'regular_end': '2021-05-19',\n",
    "        'playoff_end': '2021-07-07'  # Covid-shortened season\n",
    "    }\n",
    "}"
   ]
  },
  {
   "cell_type": "code",
   "execution_count": 8,
   "metadata": {},
   "outputs": [],
   "source": [
    "# scrape_goalie_stats_range(\n",
    "#         start_date='2023-03-01',\n",
    "#         end_date='2023-04-14',\n",
    "#         db_prefix=db_prefix,  # Make sure this matches your environment variables\n",
    "#         delay_min=90,\n",
    "#         delay_max=120,\n",
    "#         situation='pk'\n",
    "#     )"
   ]
  },
  {
   "cell_type": "code",
   "execution_count": 9,
   "metadata": {},
   "outputs": [],
   "source": [
    "# nst_team_on_ice_scraper(\n",
    "#                 startdate='2025-02-24',\n",
    "#                 enddate='2025-02-24',\n",
    "#                 sit='5v5',\n",
    "#                 stype=2\n",
    "#             )\n"
   ]
  },
  {
   "cell_type": "code",
   "execution_count": 13,
   "metadata": {},
   "outputs": [
    {
     "data": {
      "text/plain": [
       "'2023-06-13'"
      ]
     },
     "execution_count": 13,
     "metadata": {},
     "output_type": "execute_result"
    }
   ],
   "source": [
    "NHL_SEASONS[20222023]['playoff_end']"
   ]
  },
  {
   "cell_type": "code",
   "execution_count": null,
   "metadata": {},
   "outputs": [],
   "source": [
    "scrape_team_stats_range(\n",
    "    start_date=NHL_SEASONS[20232024]['start'],\n",
    "    end_date='2024-04-18',\n",
    "    db_prefix=db_prefix,\n",
    "    delay_min=90,\n",
    "    delay_max=120,\n",
    "    situation='5v5'\n",
    ")\n",
    "time.sleep(100)\n",
    "scrape_team_stats_range(\n",
    "    start_date=NHL_SEASONS[20222023]['start'],\n",
    "    end_date=NHL_SEASONS[20222023]['regular_end'],\n",
    "    db_prefix=db_prefix,\n",
    "    delay_min=90,\n",
    "    delay_max=120,\n",
    "    situation='5v5'\n",
    ")\n",
    "time.sleep(100)\n",
    "scrape_team_stats_range(\n",
    "    start_date=NHL_SEASONS[20212022]['start'],\n",
    "    end_date=NHL_SEASONS[20212022]['regular_end'],\n",
    "    db_prefix=db_prefix,\n",
    "    delay_min=90,\n",
    "    delay_max=120,\n",
    "    situation='5v5'\n",
    ")\n",
    "time.sleep(100)\n",
    "scrape_team_stats_range(\n",
    "    start_date=NHL_SEASONS[20202021]['start'],\n",
    "    end_date=NHL_SEASONS[20202021]['regular_end'],\n",
    "    db_prefix=db_prefix,\n",
    "    delay_min=90,\n",
    "    delay_max=120,\n",
    "    situation='5v5'\n",
    ")"
   ]
  }
 ],
 "metadata": {
  "kernelspec": {
   "display_name": ".venv",
   "language": "python",
   "name": "python3"
  },
  "language_info": {
   "codemirror_mode": {
    "name": "ipython",
    "version": 3
   },
   "file_extension": ".py",
   "mimetype": "text/x-python",
   "name": "python",
   "nbconvert_exporter": "python",
   "pygments_lexer": "ipython3",
   "version": "3.12.5"
  }
 },
 "nbformat": 4,
 "nbformat_minor": 2
}

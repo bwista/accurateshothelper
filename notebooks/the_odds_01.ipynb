{
 "cells": [
  {
   "cell_type": "code",
   "execution_count": null,
   "metadata": {},
   "outputs": [],
   "source": [
    "import os\n",
    "import sys\n",
    "import pandas as pd\n",
    "pd.set_option('display.max_rows', None)  # Set to None to display all rows\n",
    "import urllib\n",
    "import psycopg2\n",
    "from psycopg2.extras import execute_values\n",
    "from datetime import datetime, timedelta, timezone\n",
    "\n",
    "# Add project root to sys.path\n",
    "current_dir = os.getcwd()\n",
    "project_root = os.path.abspath(os.path.join(current_dir, '..'))\n",
    "if project_root not in sys.path:\n",
    "    sys.path.append(project_root)\n",
    "\n",
    "# Verify sys.path\n",
    "print(\"Current sys.path:\", sys.path)\n",
    "\n",
    "from src.db.base_utils import get_db_connection\n",
    "from src.db.the_odds_db_utils import *"
   ]
  },
  {
   "cell_type": "code",
   "execution_count": null,
   "metadata": {},
   "outputs": [],
   "source": [
    "# Today's date (EST)\n",
    "(datetime.now() - timedelta(hours=6)).strftime('%Y-%m-%d')"
   ]
  },
  {
   "cell_type": "code",
   "execution_count": 3,
   "metadata": {},
   "outputs": [],
   "source": [
    "# fetch_and_store_nhl_games('2025-01-30', enable_logging=True)"
   ]
  },
  {
   "cell_type": "code",
   "execution_count": 4,
   "metadata": {},
   "outputs": [],
   "source": [
    "# get_nhl_events_from_db('2025-01-06', enable_logging=True)"
   ]
  },
  {
   "cell_type": "code",
   "execution_count": null,
   "metadata": {},
   "outputs": [],
   "source": [
    "get_mismatched_game_ids_with_details(enable_logging=True)\n"
   ]
  },
  {
   "cell_type": "code",
   "execution_count": 6,
   "metadata": {},
   "outputs": [],
   "source": [
    "# process_sog_markets('76d32822c0db9bfcc89357f081134d89', '2025-01-05', enable_logging=True)"
   ]
  },
  {
   "cell_type": "code",
   "execution_count": 7,
   "metadata": {},
   "outputs": [],
   "source": [
    "# process_all_sog_markets('2025-01-25', enable_logging=True)"
   ]
  },
  {
   "cell_type": "code",
   "execution_count": 8,
   "metadata": {},
   "outputs": [],
   "source": [
    "def process_all_sog_markets_for_month(year: int, month: int, enable_logging: bool = True) -> None:\n",
    "    \"\"\"\n",
    "    Runs the `process_all_sog_markets` function for each day in the specified month.\n",
    "\n",
    "    Args:\n",
    "        year (int): The year of the month to process.\n",
    "        month (int): The month to process (1-12).\n",
    "        enable_logging (bool, optional): Enable logging. Defaults to True.\n",
    "    \"\"\"\n",
    "    import calendar\n",
    "    from datetime import datetime\n",
    "\n",
    "    # Get the number of days in the specified month\n",
    "    num_days = calendar.monthrange(year, month)[1]\n",
    "\n",
    "    for day in range(1, num_days + 1):\n",
    "        # Format the date as 'YYYY-MM-DD'\n",
    "        date_str = datetime(year, month, day).strftime('%Y-%m-%d')\n",
    "        \n",
    "        # Log the current date being processed\n",
    "        if enable_logging:\n",
    "            print(f\"Processing SOG markets for date: {date_str}\")\n",
    "        \n",
    "        # Call the existing function to process SOG markets for the current date\n",
    "        process_all_sog_markets(date_str, enable_logging=enable_logging)"
   ]
  },
  {
   "cell_type": "code",
   "execution_count": 9,
   "metadata": {},
   "outputs": [],
   "source": [
    "# process_all_sog_markets_for_month(year= 2025, month= 2)"
   ]
  },
  {
   "cell_type": "code",
   "execution_count": 10,
   "metadata": {},
   "outputs": [],
   "source": [
    "def process_all_sog_markets_for_date_range(start_date: str, end_date: str, enable_logging: bool = True) -> None:\n",
    "    \"\"\"\n",
    "    Runs the `process_all_sog_markets` function for each date within the specified date range.\n",
    "    \n",
    "    Args:\n",
    "        start_date (str): The start date in 'YYYY-MM-DD' format.\n",
    "        end_date (str): The end date in 'YYYY-MM-DD' format.\n",
    "        enable_logging (bool, optional): Enable logging. Defaults to True.\n",
    "    \"\"\"\n",
    "    from datetime import datetime, timedelta\n",
    "\n",
    "    # Convert string dates to datetime objects\n",
    "    start_dt = datetime.strptime(start_date, '%Y-%m-%d')\n",
    "    end_dt = datetime.strptime(end_date, '%Y-%m-%d')\n",
    "\n",
    "    if start_dt > end_dt:\n",
    "        raise ValueError(\"start_date must be on or before end_date\")\n",
    "\n",
    "    current_dt = start_dt\n",
    "    while current_dt <= end_dt:\n",
    "        date_str = current_dt.strftime('%Y-%m-%d')\n",
    "        \n",
    "        # Log the current date being processed\n",
    "        if enable_logging:\n",
    "            print(f\"Processing SOG markets for date: {date_str}\")\n",
    "        \n",
    "        # Call the existing function to process SOG markets for the current date\n",
    "        process_all_sog_markets(date_str, enable_logging=enable_logging)\n",
    "        \n",
    "        # Move to the next day\n",
    "        current_dt += timedelta(days=1)\n",
    "\n",
    "# Example usage\n",
    "# process_all_sog_markets_for_date_range(start_date='2024-04-01', end_date='2024-04-18')"
   ]
  },
  {
   "cell_type": "code",
   "execution_count": 11,
   "metadata": {},
   "outputs": [],
   "source": [
    "def process_all_moneyline_markets_for_date_range(start_date: str, end_date: str, enable_logging: bool = True) -> None:\n",
    "    \"\"\"\n",
    "    Runs the `process_all_moneyline_markets` function for each date within the specified date range.\n",
    "    \n",
    "    Args:\n",
    "        start_date (str): The start date in 'YYYY-MM-DD' format.\n",
    "        end_date (str): The end date in 'YYYY-MM-DD' format.\n",
    "        enable_logging (bool, optional): Enable logging. Defaults to True.\n",
    "    \"\"\"\n",
    "    from datetime import datetime, timedelta\n",
    "\n",
    "    # Convert string dates to datetime objects\n",
    "    start_dt = datetime.strptime(start_date, '%Y-%m-%d')\n",
    "    end_dt = datetime.strptime(end_date, '%Y-%m-%d')\n",
    "\n",
    "    if start_dt > end_dt:\n",
    "        raise ValueError(\"start_date must be on or before end_date\")\n",
    "\n",
    "    current_dt = start_dt\n",
    "    while current_dt <= end_dt:\n",
    "        date_str = current_dt.strftime('%Y-%m-%d')\n",
    "        \n",
    "        # Log the current date being processed\n",
    "        if enable_logging:\n",
    "            print(f\"Processing moneyline markets for date: {date_str}\")\n",
    "        \n",
    "        # Call the existing function to process moneyline markets for the current date\n",
    "        process_all_moneyline_markets(query_date=date_str, enable_logging=enable_logging)\n",
    "        \n",
    "        # Move to the next day\n",
    "        current_dt += timedelta(days=1)\n",
    "\n",
    "# Example usage\n",
    "# process_all_moneyline_markets_for_date_range(start_date='2025-02-22', end_date='2025-02-28')"
   ]
  },
  {
   "cell_type": "code",
   "execution_count": 12,
   "metadata": {},
   "outputs": [],
   "source": [
    "def process_all_strikeout_markets_for_date_range(start_date: str, end_date: str, enable_logging: bool = True) -> None:\n",
    "    \"\"\"\n",
    "    Runs the `process_all_moneyline_markets` function for each date within the specified date range.\n",
    "    \n",
    "    Args:\n",
    "        start_date (str): The start date in 'YYYY-MM-DD' format.\n",
    "        end_date (str): The end date in 'YYYY-MM-DD' format.\n",
    "        enable_logging (bool, optional): Enable logging. Defaults to True.\n",
    "    \"\"\"\n",
    "    from datetime import datetime, timedelta\n",
    "\n",
    "    # Convert string dates to datetime objects\n",
    "    start_dt = datetime.strptime(start_date, '%Y-%m-%d')\n",
    "    end_dt = datetime.strptime(end_date, '%Y-%m-%d')\n",
    "\n",
    "    if start_dt > end_dt:\n",
    "        raise ValueError(\"start_date must be on or before end_date\")\n",
    "\n",
    "    current_dt = start_dt\n",
    "    while current_dt <= end_dt:\n",
    "        date_str = current_dt.strftime('%Y-%m-%d')\n",
    "        \n",
    "        # Log the current date being processed\n",
    "        if enable_logging:\n",
    "            print(f\"Processing strikeout markets for date: {date_str}\")\n",
    "        \n",
    "        # Call the existing function to process str markets for the current date\n",
    "        process_all_strikeout_markets(query_date=date_str, enable_logging=enable_logging)\n",
    "        \n",
    "        # Move to the next day\n",
    "        current_dt += timedelta(days=1)"
   ]
  },
  {
   "cell_type": "code",
   "execution_count": 13,
   "metadata": {},
   "outputs": [],
   "source": [
    "# process_all_saves_markets_date_range(start_date='2024-10-04', end_date='2024-10-31', enable_logging=True)"
   ]
  },
  {
   "cell_type": "code",
   "execution_count": null,
   "metadata": {},
   "outputs": [],
   "source": [
    "# fetch_and_store_mlb_games('2025-03-28', True)\n",
    "\n",
    "# this doesn't work\n",
    "# process_strikeout_markets(\"6e31e96d4868211d236d00d115a63bc8\", enable_logging=True)\n",
    "\n",
    "# process_all_strikeout_markets('2024-04-28', enable_logging=True)\n",
    "process_all_strikeout_markets_for_date_range(start_date='2024-04-26', end_date='2024-04-29')"
   ]
  }
 ],
 "metadata": {
  "kernelspec": {
   "display_name": ".venv",
   "language": "python",
   "name": "python3"
  },
  "language_info": {
   "codemirror_mode": {
    "name": "ipython",
    "version": 3
   },
   "file_extension": ".py",
   "mimetype": "text/x-python",
   "name": "python",
   "nbconvert_exporter": "python",
   "pygments_lexer": "ipython3",
   "version": "3.10.2"
  }
 },
 "nbformat": 4,
 "nbformat_minor": 2
}

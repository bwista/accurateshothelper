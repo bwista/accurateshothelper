{
 "cells": [
  {
   "cell_type": "code",
   "execution_count": 1,
   "metadata": {},
   "outputs": [
    {
     "name": "stdout",
     "output_type": "stream",
     "text": [
      "Current sys.path: ['C:\\\\Users\\\\H-100\\\\AppData\\\\Local\\\\Programs\\\\Python\\\\Python310\\\\python310.zip', 'C:\\\\Users\\\\H-100\\\\AppData\\\\Local\\\\Programs\\\\Python\\\\Python310\\\\DLLs', 'C:\\\\Users\\\\H-100\\\\AppData\\\\Local\\\\Programs\\\\Python\\\\Python310\\\\lib', 'C:\\\\Users\\\\H-100\\\\AppData\\\\Local\\\\Programs\\\\Python\\\\Python310', 'c:\\\\Users\\\\H-100\\\\Desktop\\\\python\\\\accurateshothelper\\\\.venv', '', 'c:\\\\Users\\\\H-100\\\\Desktop\\\\python\\\\accurateshothelper\\\\.venv\\\\lib\\\\site-packages', 'c:\\\\Users\\\\H-100\\\\Desktop\\\\python\\\\accurateshothelper\\\\.venv\\\\lib\\\\site-packages\\\\win32', 'c:\\\\Users\\\\H-100\\\\Desktop\\\\python\\\\accurateshothelper\\\\.venv\\\\lib\\\\site-packages\\\\win32\\\\lib', 'c:\\\\Users\\\\H-100\\\\Desktop\\\\python\\\\accurateshothelper\\\\.venv\\\\lib\\\\site-packages\\\\Pythonwin', 'c:\\\\Users\\\\H-100\\\\Desktop\\\\python\\\\accurateshothelper']\n"
     ]
    },
    {
     "name": "stderr",
     "output_type": "stream",
     "text": [
      "c:\\Users\\H-100\\Desktop\\python\\accurateshothelper\\.venv\\lib\\site-packages\\fuzzywuzzy\\fuzz.py:11: UserWarning: Using slow pure-python SequenceMatcher. Install python-Levenshtein to remove this warning\n",
      "  warnings.warn('Using slow pure-python SequenceMatcher. Install python-Levenshtein to remove this warning')\n"
     ]
    }
   ],
   "source": [
    "import os\n",
    "import sys\n",
    "import pandas as pd\n",
    "pd.set_option('display.max_rows', None)  # Set to None to display all rows\n",
    "import urllib\n",
    "import psycopg2\n",
    "from psycopg2.extras import execute_values\n",
    "from datetime import datetime, timedelta, timezone\n",
    "\n",
    "# Add project root to sys.path\n",
    "current_dir = os.getcwd()\n",
    "project_root = os.path.abspath(os.path.join(current_dir, '..'))\n",
    "if project_root not in sys.path:\n",
    "    sys.path.append(project_root)\n",
    "\n",
    "# Verify sys.path\n",
    "print(\"Current sys.path:\", sys.path)\n",
    "\n",
    "from src.db.base_utils import get_db_connection\n",
    "from src.db.the_odds_db_utils import *"
   ]
  },
  {
   "cell_type": "code",
   "execution_count": 2,
   "metadata": {},
   "outputs": [
    {
     "data": {
      "text/plain": [
       "'2025-01-30'"
      ]
     },
     "execution_count": 2,
     "metadata": {},
     "output_type": "execute_result"
    }
   ],
   "source": [
    "# Today's date (EST)\n",
    "(datetime.now() - timedelta(hours=6)).strftime('%Y-%m-%d')"
   ]
  },
  {
   "cell_type": "code",
   "execution_count": 18,
   "metadata": {},
   "outputs": [
    {
     "name": "stderr",
     "output_type": "stream",
     "text": [
      "INFO:root:Fetching and storing NHL events for date: 2025-01-23\n",
      "INFO:root:Using historical API for date: 2025-01-23\n",
      "INFO:src.db.base_utils:Attempting connection with: host=localhost, port=5432, dbname=the_odds_db, user=postgres\n",
      "INFO:src.db.base_utils:Successfully established database connection\n",
      "INFO:root:Inserted/Updated 5 records into game_info table.\n",
      "INFO:root:Completed fetching and storing events.\n"
     ]
    },
    {
     "data": {
      "text/plain": [
       "[{'id': '53a8dfeeab45554ddbe421fcd7e4dec6',\n",
       "  'sport_key': 'icehockey_nhl',\n",
       "  'sport_title': 'NHL',\n",
       "  'commence_time': '2025-01-24T03:30:00Z',\n",
       "  'home_team': 'San Jose Sharks',\n",
       "  'away_team': 'Nashville Predators'},\n",
       " {'id': '6b1f15d86e7483e2c52e2952671f77d2',\n",
       "  'sport_key': 'icehockey_nhl',\n",
       "  'sport_title': 'NHL',\n",
       "  'commence_time': '2025-01-25T00:30:00Z',\n",
       "  'home_team': 'Dallas Stars',\n",
       "  'away_team': 'Vegas Golden Knights'},\n",
       " {'id': 'e1ce3e1e2c796d64e422167b1b559ae9',\n",
       "  'sport_key': 'icehockey_nhl',\n",
       "  'sport_title': 'NHL',\n",
       "  'commence_time': '2025-01-25T00:30:00Z',\n",
       "  'home_team': 'New York Islanders',\n",
       "  'away_team': 'Philadelphia Flyers'},\n",
       " {'id': '07c01a17afbbee37aff39b4c444ac8bc',\n",
       "  'sport_key': 'icehockey_nhl',\n",
       "  'sport_title': 'NHL',\n",
       "  'commence_time': '2025-01-25T01:00:00Z',\n",
       "  'home_team': 'Chicago Blackhawks',\n",
       "  'away_team': 'Tampa Bay Lightning'},\n",
       " {'id': '2ba0d0ce1f9da6039fb825b3fba8cf46',\n",
       "  'sport_key': 'icehockey_nhl',\n",
       "  'sport_title': 'NHL',\n",
       "  'commence_time': '2025-01-25T01:00:00Z',\n",
       "  'home_team': 'Winnipeg Jets',\n",
       "  'away_team': 'Utah Hockey Club'}]"
      ]
     },
     "execution_count": 18,
     "metadata": {},
     "output_type": "execute_result"
    }
   ],
   "source": [
    "fetch_and_store_nhl_games('2025-01-23', enable_logging=True)"
   ]
  },
  {
   "cell_type": "code",
   "execution_count": 4,
   "metadata": {},
   "outputs": [],
   "source": [
    "# get_nhl_events_from_db('2025-01-06', enable_logging=True)"
   ]
  },
  {
   "cell_type": "code",
   "execution_count": 15,
   "metadata": {},
   "outputs": [
    {
     "name": "stderr",
     "output_type": "stream",
     "text": [
      "INFO:root:Comparing distinct game_ids in game_info and player_sog_odds tables.\n",
      "INFO:src.db.base_utils:Attempting connection with: host=localhost, port=5432, dbname=the_odds_db, user=postgres\n",
      "INFO:src.db.base_utils:Successfully established database connection\n",
      "INFO:root:Game IDs only in game_info: [('48a78115314cd8cfc17c286225cc2e33', 'Florida Panthers', 'Los Angeles Kings', datetime.datetime(2025, 1, 29, 18, 0, tzinfo=datetime.timezone(datetime.timedelta(days=-1, seconds=64800)))), ('a4dc3c55e71afc66e6ba155ac05a9ec3', 'Toronto Maple Leafs', 'Minnesota Wild', datetime.datetime(2025, 1, 29, 18, 0, tzinfo=datetime.timezone(datetime.timedelta(days=-1, seconds=64800)))), ('d80360961653670e37e2caec4b5bb05b', 'New Jersey Devils', 'Philadelphia Flyers', datetime.datetime(2025, 1, 29, 18, 0, tzinfo=datetime.timezone(datetime.timedelta(days=-1, seconds=64800)))), ('8faf7fde70d81b4fa1115653c6a5eed4', 'Nashville Predators', 'Vancouver Canucks', datetime.datetime(2025, 1, 29, 20, 0, tzinfo=datetime.timezone(datetime.timedelta(days=-1, seconds=64800)))), ('176d96f9d29e5a8390791ec580b778cf', 'Utah Hockey Club', 'Pittsburgh Penguins', datetime.datetime(2025, 1, 29, 20, 30, tzinfo=datetime.timezone(datetime.timedelta(days=-1, seconds=64800))))]\n",
      "INFO:root:Game IDs only in player_sog_odds: set()\n",
      "INFO:root:Completed comparison of game_ids.\n"
     ]
    },
    {
     "data": {
      "text/plain": [
       "{'only_in_game_info': [{'game_id': '48a78115314cd8cfc17c286225cc2e33',\n",
       "   'away_team': 'Los Angeles Kings',\n",
       "   'home_team': 'Florida Panthers',\n",
       "   'commence_time': '2025-01-29'},\n",
       "  {'game_id': 'a4dc3c55e71afc66e6ba155ac05a9ec3',\n",
       "   'away_team': 'Minnesota Wild',\n",
       "   'home_team': 'Toronto Maple Leafs',\n",
       "   'commence_time': '2025-01-29'},\n",
       "  {'game_id': 'd80360961653670e37e2caec4b5bb05b',\n",
       "   'away_team': 'Philadelphia Flyers',\n",
       "   'home_team': 'New Jersey Devils',\n",
       "   'commence_time': '2025-01-29'},\n",
       "  {'game_id': '8faf7fde70d81b4fa1115653c6a5eed4',\n",
       "   'away_team': 'Vancouver Canucks',\n",
       "   'home_team': 'Nashville Predators',\n",
       "   'commence_time': '2025-01-29'},\n",
       "  {'game_id': '176d96f9d29e5a8390791ec580b778cf',\n",
       "   'away_team': 'Pittsburgh Penguins',\n",
       "   'home_team': 'Utah Hockey Club',\n",
       "   'commence_time': '2025-01-29'}],\n",
       " 'only_in_player_sog_odds': []}"
      ]
     },
     "execution_count": 15,
     "metadata": {},
     "output_type": "execute_result"
    }
   ],
   "source": [
    "get_mismatched_game_ids_with_details(enable_logging=True)"
   ]
  },
  {
   "cell_type": "code",
   "execution_count": 7,
   "metadata": {},
   "outputs": [],
   "source": [
    "# process_sog_markets('76d32822c0db9bfcc89357f081134d89', '2025-01-05', enable_logging=True)"
   ]
  },
  {
   "cell_type": "code",
   "execution_count": 14,
   "metadata": {},
   "outputs": [
    {
     "name": "stderr",
     "output_type": "stream",
     "text": [
      "INFO:root:Processing all SOG markets for date: 2025-01-24\n",
      "INFO:root:Retrieving NHL events from DB for date: 2025-01-24\n",
      "INFO:src.db.base_utils:Attempting connection with: host=localhost, port=5432, dbname=the_odds_db, user=postgres\n",
      "INFO:src.db.base_utils:Successfully established database connection\n",
      "INFO:root:Retrieved 4 events from the database for date 2025-01-24.\n",
      "INFO:root:Processing game 6b1f15d86e7483e2c52e2952671f77d2 scheduled for 2025-01-25T00:30:00Z\n",
      "INFO:root:Processing SOG markets for game: 6b1f15d86e7483e2c52e2952671f77d2\n",
      "INFO:root:Using historical odds for date: 2025-01-25T00:30:00Z\n",
      "INFO:src.db.base_utils:Attempting connection with: host=localhost, port=5432, dbname=the_odds_db, user=postgres\n",
      "INFO:src.db.base_utils:Successfully established database connection\n",
      "INFO:root:Inserted/Updated 176 records for game 6b1f15d86e7483e2c52e2952671f77d2\n",
      "INFO:root:Completed processing SOG markets for game 6b1f15d86e7483e2c52e2952671f77d2\n",
      "INFO:root:Processing game e1ce3e1e2c796d64e422167b1b559ae9 scheduled for 2025-01-25T00:30:00Z\n",
      "INFO:root:Processing SOG markets for game: e1ce3e1e2c796d64e422167b1b559ae9\n",
      "INFO:root:Using historical odds for date: 2025-01-25T00:30:00Z\n",
      "INFO:src.db.base_utils:Attempting connection with: host=localhost, port=5432, dbname=the_odds_db, user=postgres\n",
      "INFO:src.db.base_utils:Successfully established database connection\n",
      "INFO:root:Inserted/Updated 118 records for game e1ce3e1e2c796d64e422167b1b559ae9\n",
      "INFO:root:Completed processing SOG markets for game e1ce3e1e2c796d64e422167b1b559ae9\n",
      "INFO:root:Processing game 07c01a17afbbee37aff39b4c444ac8bc scheduled for 2025-01-25T01:00:00Z\n",
      "INFO:root:Processing SOG markets for game: 07c01a17afbbee37aff39b4c444ac8bc\n",
      "INFO:root:Using historical odds for date: 2025-01-25T01:00:00Z\n",
      "INFO:src.db.base_utils:Attempting connection with: host=localhost, port=5432, dbname=the_odds_db, user=postgres\n",
      "INFO:src.db.base_utils:Successfully established database connection\n",
      "INFO:root:Inserted/Updated 136 records for game 07c01a17afbbee37aff39b4c444ac8bc\n",
      "INFO:root:Completed processing SOG markets for game 07c01a17afbbee37aff39b4c444ac8bc\n",
      "INFO:root:Processing game 2ba0d0ce1f9da6039fb825b3fba8cf46 scheduled for 2025-01-25T01:00:00Z\n",
      "INFO:root:Processing SOG markets for game: 2ba0d0ce1f9da6039fb825b3fba8cf46\n",
      "INFO:root:Using historical odds for date: 2025-01-25T01:00:00Z\n",
      "INFO:src.db.base_utils:Attempting connection with: host=localhost, port=5432, dbname=the_odds_db, user=postgres\n",
      "INFO:src.db.base_utils:Successfully established database connection\n",
      "INFO:root:Inserted/Updated 134 records for game 2ba0d0ce1f9da6039fb825b3fba8cf46\n",
      "INFO:root:Completed processing SOG markets for game 2ba0d0ce1f9da6039fb825b3fba8cf46\n",
      "INFO:root:Completed processing all SOG markets for date 2025-01-24\n"
     ]
    }
   ],
   "source": [
    "process_all_sog_markets('2025-01-24', enable_logging=True)"
   ]
  },
  {
   "cell_type": "code",
   "execution_count": 4,
   "metadata": {},
   "outputs": [],
   "source": [
    "def process_all_sog_markets_for_month(year: int, month: int, enable_logging: bool = True) -> None:\n",
    "    \"\"\"\n",
    "    Runs the `process_all_sog_markets` function for each day in the specified month.\n",
    "\n",
    "    Args:\n",
    "        year (int): The year of the month to process.\n",
    "        month (int): The month to process (1-12).\n",
    "        enable_logging (bool, optional): Enable logging. Defaults to True.\n",
    "    \"\"\"\n",
    "    import calendar\n",
    "    from datetime import datetime\n",
    "\n",
    "    # Get the number of days in the specified month\n",
    "    num_days = calendar.monthrange(year, month)[1]\n",
    "\n",
    "    for day in range(1, num_days + 1):\n",
    "        # Format the date as 'YYYY-MM-DD'\n",
    "        date_str = datetime(year, month, day).strftime('%Y-%m-%d')\n",
    "        \n",
    "        # Log the current date being processed\n",
    "        if enable_logging:\n",
    "            print(f\"Processing SOG markets for date: {date_str}\")\n",
    "        \n",
    "        # Call the existing function to process SOG markets for the current date\n",
    "        process_all_sog_markets(date_str, enable_logging=enable_logging)"
   ]
  },
  {
   "cell_type": "code",
   "execution_count": 7,
   "metadata": {},
   "outputs": [],
   "source": [
    "# process_all_sog_markets_for_month(year= 2024, month= 11)"
   ]
  },
  {
   "cell_type": "code",
   "execution_count": 5,
   "metadata": {},
   "outputs": [],
   "source": [
    "def process_all_sog_markets_for_date_range(start_date: str, end_date: str, enable_logging: bool = True) -> None:\n",
    "    \"\"\"\n",
    "    Runs the `process_all_sog_markets` function for each date within the specified date range.\n",
    "    \n",
    "    Args:\n",
    "        start_date (str): The start date in 'YYYY-MM-DD' format.\n",
    "        end_date (str): The end date in 'YYYY-MM-DD' format.\n",
    "        enable_logging (bool, optional): Enable logging. Defaults to True.\n",
    "    \"\"\"\n",
    "    from datetime import datetime, timedelta\n",
    "\n",
    "    # Convert string dates to datetime objects\n",
    "    start_dt = datetime.strptime(start_date, '%Y-%m-%d')\n",
    "    end_dt = datetime.strptime(end_date, '%Y-%m-%d')\n",
    "\n",
    "    if start_dt > end_dt:\n",
    "        raise ValueError(\"start_date must be on or before end_date\")\n",
    "\n",
    "    current_dt = start_dt\n",
    "    while current_dt <= end_dt:\n",
    "        date_str = current_dt.strftime('%Y-%m-%d')\n",
    "        \n",
    "        # Log the current date being processed\n",
    "        if enable_logging:\n",
    "            print(f\"Processing SOG markets for date: {date_str}\")\n",
    "        \n",
    "        # Call the existing function to process SOG markets for the current date\n",
    "        process_all_sog_markets(date_str, enable_logging=enable_logging)\n",
    "        \n",
    "        # Move to the next day\n",
    "        current_dt += timedelta(days=1)"
   ]
  },
  {
   "cell_type": "code",
   "execution_count": 11,
   "metadata": {},
   "outputs": [
    {
     "name": "stderr",
     "output_type": "stream",
     "text": [
      "INFO:root:Processing all SOG markets for date: 2025-01-25\n",
      "INFO:root:Retrieving NHL events from DB for date: 2025-01-25\n",
      "INFO:src.db.base_utils:Attempting connection with: host=localhost, port=5432, dbname=the_odds_db, user=postgres\n",
      "INFO:src.db.base_utils:Successfully established database connection\n",
      "INFO:root:Retrieved 0 events from the database for date 2025-01-25.\n",
      "INFO:root:No games found for date 2025-01-25, attempting to fetch from API\n",
      "INFO:root:Fetching and storing NHL events for date: 2025-01-25\n",
      "INFO:root:Using historical API for date: 2025-01-25\n"
     ]
    },
    {
     "name": "stdout",
     "output_type": "stream",
     "text": [
      "Processing SOG markets for date: 2025-01-25\n"
     ]
    },
    {
     "name": "stderr",
     "output_type": "stream",
     "text": [
      "INFO:src.db.base_utils:Attempting connection with: host=localhost, port=5432, dbname=the_odds_db, user=postgres\n",
      "INFO:src.db.base_utils:Successfully established database connection\n",
      "INFO:root:Inserted/Updated 5 records into game_info table.\n",
      "INFO:root:Completed fetching and storing events.\n",
      "INFO:root:Retrieving NHL events from DB for date: 2025-01-25\n",
      "INFO:src.db.base_utils:Attempting connection with: host=localhost, port=5432, dbname=the_odds_db, user=postgres\n",
      "INFO:src.db.base_utils:Successfully established database connection\n",
      "INFO:root:Retrieved 0 events from the database for date 2025-01-25.\n",
      "WARNING:root:No games found for date 2025-01-25 even after fetching from API\n",
      "INFO:root:Processing all SOG markets for date: 2025-01-26\n",
      "INFO:root:Retrieving NHL events from DB for date: 2025-01-26\n",
      "INFO:src.db.base_utils:Attempting connection with: host=localhost, port=5432, dbname=the_odds_db, user=postgres\n",
      "INFO:src.db.base_utils:Successfully established database connection\n",
      "INFO:root:Retrieved 5 events from the database for date 2025-01-26.\n",
      "INFO:root:Processing game 8c00f25c0d0e8bbf17f5f6f1fcfcbaa0 scheduled for 2025-01-26T18:00:00Z\n",
      "INFO:root:Processing SOG markets for game: 8c00f25c0d0e8bbf17f5f6f1fcfcbaa0\n",
      "INFO:root:Using historical odds for date: 2025-01-26T18:00:00Z\n"
     ]
    },
    {
     "name": "stdout",
     "output_type": "stream",
     "text": [
      "Processing SOG markets for date: 2025-01-26\n"
     ]
    },
    {
     "name": "stderr",
     "output_type": "stream",
     "text": [
      "INFO:src.db.base_utils:Attempting connection with: host=localhost, port=5432, dbname=the_odds_db, user=postgres\n",
      "INFO:src.db.base_utils:Successfully established database connection\n",
      "INFO:root:Inserted/Updated 166 records for game 8c00f25c0d0e8bbf17f5f6f1fcfcbaa0\n",
      "INFO:root:Completed processing SOG markets for game 8c00f25c0d0e8bbf17f5f6f1fcfcbaa0\n",
      "INFO:root:Processing game 38a7969e0e192d911ac5fa2b3f007cf1 scheduled for 2025-01-26T22:00:00Z\n",
      "INFO:root:Processing SOG markets for game: 38a7969e0e192d911ac5fa2b3f007cf1\n",
      "INFO:root:Using historical odds for date: 2025-01-26T22:00:00Z\n",
      "INFO:src.db.base_utils:Attempting connection with: host=localhost, port=5432, dbname=the_odds_db, user=postgres\n",
      "INFO:src.db.base_utils:Successfully established database connection\n",
      "INFO:root:Inserted/Updated 150 records for game 38a7969e0e192d911ac5fa2b3f007cf1\n",
      "INFO:root:Completed processing SOG markets for game 38a7969e0e192d911ac5fa2b3f007cf1\n",
      "INFO:root:Processing game fd90cd96f73166cccdc9573289aaba89 scheduled for 2025-01-26T23:00:00Z\n",
      "INFO:root:Processing SOG markets for game: fd90cd96f73166cccdc9573289aaba89\n",
      "INFO:root:Using historical odds for date: 2025-01-26T23:00:00Z\n",
      "INFO:src.db.base_utils:Attempting connection with: host=localhost, port=5432, dbname=the_odds_db, user=postgres\n",
      "INFO:src.db.base_utils:Successfully established database connection\n",
      "INFO:root:Inserted/Updated 162 records for game fd90cd96f73166cccdc9573289aaba89\n",
      "INFO:root:Completed processing SOG markets for game fd90cd96f73166cccdc9573289aaba89\n",
      "INFO:root:Processing game 72b5ce9ecfef0c0850e8b731f0b7fb2a scheduled for 2025-01-27T00:00:00Z\n",
      "INFO:root:Processing SOG markets for game: 72b5ce9ecfef0c0850e8b731f0b7fb2a\n",
      "INFO:root:Using historical odds for date: 2025-01-27T00:00:00Z\n",
      "INFO:src.db.base_utils:Attempting connection with: host=localhost, port=5432, dbname=the_odds_db, user=postgres\n",
      "INFO:src.db.base_utils:Successfully established database connection\n",
      "INFO:root:Inserted/Updated 124 records for game 72b5ce9ecfef0c0850e8b731f0b7fb2a\n",
      "INFO:root:Completed processing SOG markets for game 72b5ce9ecfef0c0850e8b731f0b7fb2a\n",
      "INFO:root:Processing game 390e31dd6b790b99bbe8868ad9fe29ad scheduled for 2025-01-27T01:00:00Z\n",
      "INFO:root:Processing SOG markets for game: 390e31dd6b790b99bbe8868ad9fe29ad\n",
      "INFO:root:Using historical odds for date: 2025-01-27T01:00:00Z\n",
      "INFO:src.db.base_utils:Attempting connection with: host=localhost, port=5432, dbname=the_odds_db, user=postgres\n",
      "INFO:src.db.base_utils:Successfully established database connection\n",
      "INFO:root:Inserted/Updated 152 records for game 390e31dd6b790b99bbe8868ad9fe29ad\n",
      "INFO:root:Completed processing SOG markets for game 390e31dd6b790b99bbe8868ad9fe29ad\n",
      "INFO:root:Completed processing all SOG markets for date 2025-01-26\n",
      "INFO:root:Processing all SOG markets for date: 2025-01-27\n",
      "INFO:root:Retrieving NHL events from DB for date: 2025-01-27\n",
      "INFO:src.db.base_utils:Attempting connection with: host=localhost, port=5432, dbname=the_odds_db, user=postgres\n",
      "INFO:src.db.base_utils:Successfully established database connection\n",
      "INFO:root:Retrieved 5 events from the database for date 2025-01-27.\n",
      "INFO:root:Processing game 75f6a95c27a6cb2811c3b24f107080bc scheduled for 2025-01-28T00:00:00Z\n",
      "INFO:root:Processing SOG markets for game: 75f6a95c27a6cb2811c3b24f107080bc\n",
      "INFO:root:Using historical odds for date: 2025-01-28T00:00:00Z\n"
     ]
    },
    {
     "name": "stdout",
     "output_type": "stream",
     "text": [
      "Processing SOG markets for date: 2025-01-27\n"
     ]
    },
    {
     "name": "stderr",
     "output_type": "stream",
     "text": [
      "INFO:src.db.base_utils:Attempting connection with: host=localhost, port=5432, dbname=the_odds_db, user=postgres\n",
      "INFO:src.db.base_utils:Successfully established database connection\n",
      "INFO:root:Inserted/Updated 120 records for game 75f6a95c27a6cb2811c3b24f107080bc\n",
      "INFO:root:Completed processing SOG markets for game 75f6a95c27a6cb2811c3b24f107080bc\n",
      "INFO:root:Processing game 7648c071dcc621b8d428f55f3337b704 scheduled for 2025-01-28T00:00:00Z\n",
      "INFO:root:Processing SOG markets for game: 7648c071dcc621b8d428f55f3337b704\n",
      "INFO:root:Using historical odds for date: 2025-01-28T00:00:00Z\n",
      "INFO:src.db.base_utils:Attempting connection with: host=localhost, port=5432, dbname=the_odds_db, user=postgres\n",
      "INFO:src.db.base_utils:Successfully established database connection\n",
      "INFO:root:Inserted/Updated 122 records for game 7648c071dcc621b8d428f55f3337b704\n",
      "INFO:root:Completed processing SOG markets for game 7648c071dcc621b8d428f55f3337b704\n",
      "INFO:root:Processing game 36517bac1dc1ef4b6e55afe8ac5f3a4f scheduled for 2025-01-28T00:30:00Z\n",
      "INFO:root:Processing SOG markets for game: 36517bac1dc1ef4b6e55afe8ac5f3a4f\n",
      "INFO:root:Using historical odds for date: 2025-01-28T00:30:00Z\n",
      "INFO:src.db.base_utils:Attempting connection with: host=localhost, port=5432, dbname=the_odds_db, user=postgres\n",
      "INFO:src.db.base_utils:Successfully established database connection\n",
      "INFO:root:Inserted/Updated 126 records for game 36517bac1dc1ef4b6e55afe8ac5f3a4f\n",
      "INFO:root:Completed processing SOG markets for game 36517bac1dc1ef4b6e55afe8ac5f3a4f\n",
      "INFO:root:Processing game ced257bd481c4a96cbafbf39c9ff93ec scheduled for 2025-01-28T02:30:00Z\n",
      "INFO:root:Processing SOG markets for game: ced257bd481c4a96cbafbf39c9ff93ec\n",
      "INFO:root:Using historical odds for date: 2025-01-28T02:30:00Z\n",
      "INFO:src.db.base_utils:Attempting connection with: host=localhost, port=5432, dbname=the_odds_db, user=postgres\n",
      "INFO:src.db.base_utils:Successfully established database connection\n",
      "INFO:root:Inserted/Updated 160 records for game ced257bd481c4a96cbafbf39c9ff93ec\n",
      "INFO:root:Completed processing SOG markets for game ced257bd481c4a96cbafbf39c9ff93ec\n",
      "INFO:root:Processing game d9af83bd6e62c3cfa295fdf2fa49c77d scheduled for 2025-01-28T03:30:00Z\n",
      "INFO:root:Processing SOG markets for game: d9af83bd6e62c3cfa295fdf2fa49c77d\n",
      "INFO:root:Using historical odds for date: 2025-01-28T03:30:00Z\n",
      "INFO:src.db.base_utils:Attempting connection with: host=localhost, port=5432, dbname=the_odds_db, user=postgres\n",
      "INFO:src.db.base_utils:Successfully established database connection\n",
      "INFO:root:Inserted/Updated 136 records for game d9af83bd6e62c3cfa295fdf2fa49c77d\n",
      "INFO:root:Completed processing SOG markets for game d9af83bd6e62c3cfa295fdf2fa49c77d\n",
      "INFO:root:Completed processing all SOG markets for date 2025-01-27\n",
      "INFO:root:Processing all SOG markets for date: 2025-01-28\n",
      "INFO:root:Retrieving NHL events from DB for date: 2025-01-28\n",
      "INFO:src.db.base_utils:Attempting connection with: host=localhost, port=5432, dbname=the_odds_db, user=postgres\n",
      "INFO:src.db.base_utils:Successfully established database connection\n",
      "INFO:root:Retrieved 0 events from the database for date 2025-01-28.\n",
      "INFO:root:No games found for date 2025-01-28, attempting to fetch from API\n",
      "INFO:root:Fetching and storing NHL events for date: 2025-01-28\n",
      "INFO:root:Using historical API for date: 2025-01-28\n"
     ]
    },
    {
     "name": "stdout",
     "output_type": "stream",
     "text": [
      "Processing SOG markets for date: 2025-01-28\n"
     ]
    },
    {
     "name": "stderr",
     "output_type": "stream",
     "text": [
      "INFO:src.db.base_utils:Attempting connection with: host=localhost, port=5432, dbname=the_odds_db, user=postgres\n",
      "INFO:src.db.base_utils:Successfully established database connection\n",
      "INFO:root:Inserted/Updated 5 records into game_info table.\n",
      "INFO:root:Completed fetching and storing events.\n",
      "INFO:root:Retrieving NHL events from DB for date: 2025-01-28\n",
      "INFO:src.db.base_utils:Attempting connection with: host=localhost, port=5432, dbname=the_odds_db, user=postgres\n",
      "INFO:src.db.base_utils:Successfully established database connection\n",
      "INFO:root:Retrieved 0 events from the database for date 2025-01-28.\n",
      "WARNING:root:No games found for date 2025-01-28 even after fetching from API\n"
     ]
    }
   ],
   "source": [
    "process_all_sog_markets_for_date_range(start_date='2025-01-25', end_date='2025-01-28')"
   ]
  },
  {
   "cell_type": "code",
   "execution_count": 6,
   "metadata": {},
   "outputs": [],
   "source": [
    "def process_all_moneyline_markets_for_date_range(start_date: str, end_date: str, enable_logging: bool = True) -> None:\n",
    "    \"\"\"\n",
    "    Runs the `process_all_moneyline_markets` function for each date within the specified date range.\n",
    "    \n",
    "    Args:\n",
    "        start_date (str): The start date in 'YYYY-MM-DD' format.\n",
    "        end_date (str): The end date in 'YYYY-MM-DD' format.\n",
    "        enable_logging (bool, optional): Enable logging. Defaults to True.\n",
    "    \"\"\"\n",
    "    from datetime import datetime, timedelta\n",
    "\n",
    "    # Convert string dates to datetime objects\n",
    "    start_dt = datetime.strptime(start_date, '%Y-%m-%d')\n",
    "    end_dt = datetime.strptime(end_date, '%Y-%m-%d')\n",
    "\n",
    "    if start_dt > end_dt:\n",
    "        raise ValueError(\"start_date must be on or before end_date\")\n",
    "\n",
    "    current_dt = start_dt\n",
    "    while current_dt <= end_dt:\n",
    "        date_str = current_dt.strftime('%Y-%m-%d')\n",
    "        \n",
    "        # Log the current date being processed\n",
    "        if enable_logging:\n",
    "            print(f\"Processing moneyline markets for date: {date_str}\")\n",
    "        \n",
    "        # Call the existing function to process moneyline markets for the current date\n",
    "        process_all_moneyline_markets(query_date=date_str, enable_logging=enable_logging)\n",
    "        \n",
    "        # Move to the next day\n",
    "        current_dt += timedelta(days=1)"
   ]
  },
  {
   "cell_type": "code",
   "execution_count": 7,
   "metadata": {},
   "outputs": [
    {
     "name": "stderr",
     "output_type": "stream",
     "text": [
      "INFO:root:Processing all moneyline markets for date: 2025-01-26\n",
      "INFO:root:Retrieving NHL events from DB for date: 2025-01-26\n",
      "INFO:src.db.base_utils:Attempting connection with: host=localhost, port=5432, dbname=the_odds_db, user=postgres\n",
      "INFO:src.db.base_utils:Successfully established database connection\n",
      "INFO:root:Retrieved 0 events from the database for date 2025-01-26.\n",
      "INFO:root:No games found for date 2025-01-26, attempting to fetch from API\n",
      "INFO:root:Fetching and storing NHL events for date: 2025-01-26\n",
      "INFO:root:Using historical API for date: 2025-01-26\n"
     ]
    },
    {
     "name": "stdout",
     "output_type": "stream",
     "text": [
      "Processing moneyline markets for date: 2025-01-26\n"
     ]
    },
    {
     "name": "stderr",
     "output_type": "stream",
     "text": [
      "INFO:src.db.base_utils:Attempting connection with: host=localhost, port=5432, dbname=the_odds_db, user=postgres\n",
      "INFO:src.db.base_utils:Successfully established database connection\n",
      "INFO:root:Inserted/Updated 5 records into game_info table.\n",
      "INFO:root:Completed fetching and storing events.\n",
      "INFO:root:Retrieving NHL events from DB for date: 2025-01-26\n",
      "INFO:src.db.base_utils:Attempting connection with: host=localhost, port=5432, dbname=the_odds_db, user=postgres\n",
      "INFO:src.db.base_utils:Successfully established database connection\n",
      "INFO:root:Retrieved 0 events from the database for date 2025-01-26.\n",
      "WARNING:root:No games found for date 2025-01-26 even after fetching from API\n",
      "INFO:root:Processing all moneyline markets for date: 2025-01-27\n",
      "INFO:root:Retrieving NHL events from DB for date: 2025-01-27\n",
      "INFO:src.db.base_utils:Attempting connection with: host=localhost, port=5432, dbname=the_odds_db, user=postgres\n",
      "INFO:src.db.base_utils:Successfully established database connection\n",
      "INFO:root:Retrieved 5 events from the database for date 2025-01-27.\n",
      "INFO:root:Processing game 75f6a95c27a6cb2811c3b24f107080bc scheduled for 2025-01-28T00:00:00Z\n",
      "INFO:root:Processing moneyline markets for game: 75f6a95c27a6cb2811c3b24f107080bc\n",
      "INFO:root:Using historical odds for date: 2025-01-28T00:00:00Z\n"
     ]
    },
    {
     "name": "stdout",
     "output_type": "stream",
     "text": [
      "Processing moneyline markets for date: 2025-01-27\n"
     ]
    },
    {
     "name": "stderr",
     "output_type": "stream",
     "text": [
      "INFO:src.db.base_utils:Attempting connection with: host=localhost, port=5432, dbname=the_odds_db, user=postgres\n",
      "INFO:src.db.base_utils:Successfully established database connection\n",
      "INFO:root:Inserted/Updated 18 records for game 75f6a95c27a6cb2811c3b24f107080bc\n",
      "INFO:root:Completed processing moneyline markets for game 75f6a95c27a6cb2811c3b24f107080bc\n",
      "INFO:root:Processing game 7648c071dcc621b8d428f55f3337b704 scheduled for 2025-01-28T00:00:00Z\n",
      "INFO:root:Processing moneyline markets for game: 7648c071dcc621b8d428f55f3337b704\n",
      "INFO:root:Using historical odds for date: 2025-01-28T00:00:00Z\n",
      "INFO:src.db.base_utils:Attempting connection with: host=localhost, port=5432, dbname=the_odds_db, user=postgres\n",
      "INFO:src.db.base_utils:Successfully established database connection\n",
      "INFO:root:Inserted/Updated 18 records for game 7648c071dcc621b8d428f55f3337b704\n",
      "INFO:root:Completed processing moneyline markets for game 7648c071dcc621b8d428f55f3337b704\n",
      "INFO:root:Processing game 36517bac1dc1ef4b6e55afe8ac5f3a4f scheduled for 2025-01-28T00:30:00Z\n",
      "INFO:root:Processing moneyline markets for game: 36517bac1dc1ef4b6e55afe8ac5f3a4f\n",
      "INFO:root:Using historical odds for date: 2025-01-28T00:30:00Z\n",
      "INFO:src.db.base_utils:Attempting connection with: host=localhost, port=5432, dbname=the_odds_db, user=postgres\n",
      "INFO:src.db.base_utils:Successfully established database connection\n",
      "INFO:root:Inserted/Updated 18 records for game 36517bac1dc1ef4b6e55afe8ac5f3a4f\n",
      "INFO:root:Completed processing moneyline markets for game 36517bac1dc1ef4b6e55afe8ac5f3a4f\n",
      "INFO:root:Processing game ced257bd481c4a96cbafbf39c9ff93ec scheduled for 2025-01-28T02:30:00Z\n",
      "INFO:root:Processing moneyline markets for game: ced257bd481c4a96cbafbf39c9ff93ec\n",
      "INFO:root:Using historical odds for date: 2025-01-28T02:30:00Z\n",
      "INFO:src.db.base_utils:Attempting connection with: host=localhost, port=5432, dbname=the_odds_db, user=postgres\n",
      "INFO:src.db.base_utils:Successfully established database connection\n",
      "INFO:root:Inserted/Updated 18 records for game ced257bd481c4a96cbafbf39c9ff93ec\n",
      "INFO:root:Completed processing moneyline markets for game ced257bd481c4a96cbafbf39c9ff93ec\n",
      "INFO:root:Processing game d9af83bd6e62c3cfa295fdf2fa49c77d scheduled for 2025-01-28T03:30:00Z\n",
      "INFO:root:Processing moneyline markets for game: d9af83bd6e62c3cfa295fdf2fa49c77d\n",
      "INFO:root:Using historical odds for date: 2025-01-28T03:30:00Z\n",
      "INFO:src.db.base_utils:Attempting connection with: host=localhost, port=5432, dbname=the_odds_db, user=postgres\n",
      "INFO:src.db.base_utils:Successfully established database connection\n",
      "INFO:root:Inserted/Updated 18 records for game d9af83bd6e62c3cfa295fdf2fa49c77d\n",
      "INFO:root:Completed processing moneyline markets for game d9af83bd6e62c3cfa295fdf2fa49c77d\n",
      "INFO:root:Completed processing all moneyline markets for date 2025-01-27\n",
      "INFO:root:Processing all moneyline markets for date: 2025-01-28\n",
      "INFO:root:Retrieving NHL events from DB for date: 2025-01-28\n",
      "INFO:src.db.base_utils:Attempting connection with: host=localhost, port=5432, dbname=the_odds_db, user=postgres\n",
      "INFO:src.db.base_utils:Successfully established database connection\n",
      "INFO:root:Retrieved 0 events from the database for date 2025-01-28.\n",
      "INFO:root:No games found for date 2025-01-28, attempting to fetch from API\n",
      "INFO:root:Fetching and storing NHL events for date: 2025-01-28\n",
      "INFO:root:Using historical API for date: 2025-01-28\n"
     ]
    },
    {
     "name": "stdout",
     "output_type": "stream",
     "text": [
      "Processing moneyline markets for date: 2025-01-28\n"
     ]
    },
    {
     "name": "stderr",
     "output_type": "stream",
     "text": [
      "INFO:src.db.base_utils:Attempting connection with: host=localhost, port=5432, dbname=the_odds_db, user=postgres\n",
      "INFO:src.db.base_utils:Successfully established database connection\n",
      "INFO:root:Inserted/Updated 5 records into game_info table.\n",
      "INFO:root:Completed fetching and storing events.\n",
      "INFO:root:Retrieving NHL events from DB for date: 2025-01-28\n",
      "INFO:src.db.base_utils:Attempting connection with: host=localhost, port=5432, dbname=the_odds_db, user=postgres\n",
      "INFO:src.db.base_utils:Successfully established database connection\n",
      "INFO:root:Retrieved 0 events from the database for date 2025-01-28.\n",
      "WARNING:root:No games found for date 2025-01-28 even after fetching from API\n"
     ]
    }
   ],
   "source": [
    "process_all_moneyline_markets_for_date_range(start_date='2025-01-26', end_date='2025-01-28', enable_logging=True)"
   ]
  }
 ],
 "metadata": {
  "kernelspec": {
   "display_name": ".venv",
   "language": "python",
   "name": "python3"
  },
  "language_info": {
   "codemirror_mode": {
    "name": "ipython",
    "version": 3
   },
   "file_extension": ".py",
   "mimetype": "text/x-python",
   "name": "python",
   "nbconvert_exporter": "python",
   "pygments_lexer": "ipython3",
   "version": "3.10.2"
  }
 },
 "nbformat": 4,
 "nbformat_minor": 2
}

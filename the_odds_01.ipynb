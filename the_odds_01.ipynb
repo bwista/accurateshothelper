{
 "cells": [
  {
   "cell_type": "code",
   "execution_count": 1,
   "metadata": {},
   "outputs": [],
   "source": [
    "import pandas as pd\n",
    "pd.set_option('display.max_rows', None)  # Set to None to display all rows\n",
    "import urllib\n",
    "import psycopg2\n",
    "from psycopg2.extras import execute_values\n",
    "from datetime import datetime, timedelta, timezone\n",
    "\n",
    "from utils import get_request\n",
    "from db_utils.base_utils import get_db_connection\n",
    "from db_utils.the_odds_db_utils import *"
   ]
  },
  {
   "cell_type": "code",
   "execution_count": 2,
   "metadata": {},
   "outputs": [
    {
     "data": {
      "text/plain": [
       "'2024-12-31'"
      ]
     },
     "execution_count": 2,
     "metadata": {},
     "output_type": "execute_result"
    }
   ],
   "source": [
    "# Today's date (EST)\n",
    "(datetime.now() - timedelta(hours=6)).strftime('%Y-%m-%d')"
   ]
  },
  {
   "cell_type": "code",
   "execution_count": 3,
   "metadata": {},
   "outputs": [
    {
     "name": "stderr",
     "output_type": "stream",
     "text": [
      "2024-12-31 10:59:19,461 - root - INFO - Fetching and storing NHL events for date: 2024-12-31\n",
      "2024-12-31 10:59:19,597 - db_utils.base_utils - INFO - Attempting connection with: host=localhost, port=5432, dbname=the_odds_db, user=postgres\n",
      "2024-12-31 10:59:19,624 - db_utils.base_utils - INFO - Successfully established database connection\n",
      "2024-12-31 10:59:19,628 - root - INFO - Inserted/Updated 14 records into game_info table.\n",
      "2024-12-31 10:59:19,628 - root - INFO - Completed fetching and storing events.\n"
     ]
    },
    {
     "data": {
      "text/plain": [
       "[{'id': '83c00f54e27e7e92fcccd05c3c63b1ee',\n",
       "  'sport_key': 'icehockey_nhl',\n",
       "  'sport_title': 'NHL',\n",
       "  'commence_time': '2024-12-31T17:30:00Z',\n",
       "  'home_team': 'Washington Capitals',\n",
       "  'away_team': 'Boston Bruins'},\n",
       " {'id': '4bc20ca48417b7fb9cfc968826411196',\n",
       "  'sport_key': 'icehockey_nhl',\n",
       "  'sport_title': 'NHL',\n",
       "  'commence_time': '2024-12-31T18:00:00Z',\n",
       "  'home_team': 'Toronto Maple Leafs',\n",
       "  'away_team': 'New York Islanders'},\n",
       " {'id': 'c7390553d92ccf06062de0603a037ca9',\n",
       "  'sport_key': 'icehockey_nhl',\n",
       "  'sport_title': 'NHL',\n",
       "  'commence_time': '2024-12-31T20:00:00Z',\n",
       "  'home_team': 'Vegas Golden Knights',\n",
       "  'away_team': 'Montréal Canadiens'},\n",
       " {'id': '5d98242aa5b528a77fe3e216d82bfdcc',\n",
       "  'sport_key': 'icehockey_nhl',\n",
       "  'sport_title': 'NHL',\n",
       "  'commence_time': '2024-12-31T22:00:00Z',\n",
       "  'home_team': 'Chicago Blackhawks',\n",
       "  'away_team': 'St Louis Blues'},\n",
       " {'id': 'faa8329058f9750c74760477d39deeb4',\n",
       "  'sport_key': 'icehockey_nhl',\n",
       "  'sport_title': 'NHL',\n",
       "  'commence_time': '2025-01-01T01:00:00Z',\n",
       "  'home_team': 'Anaheim Ducks',\n",
       "  'away_team': 'New Jersey Devils'},\n",
       " {'id': '0ab96444b1b7b38bedf52751aa2b7c9d',\n",
       "  'sport_key': 'icehockey_nhl',\n",
       "  'sport_title': 'NHL',\n",
       "  'commence_time': '2025-01-01T01:00:00Z',\n",
       "  'home_team': 'Dallas Stars',\n",
       "  'away_team': 'Buffalo Sabres'},\n",
       " {'id': '5a473f12e5a8bebcf564be649f563147',\n",
       "  'sport_key': 'icehockey_nhl',\n",
       "  'sport_title': 'NHL',\n",
       "  'commence_time': '2025-01-01T01:00:00Z',\n",
       "  'home_team': 'Columbus Blue Jackets',\n",
       "  'away_team': 'Carolina Hurricanes'},\n",
       " {'id': 'e98f1ea454e0456600691846bddd9e2c',\n",
       "  'sport_key': 'icehockey_nhl',\n",
       "  'sport_title': 'NHL',\n",
       "  'commence_time': '2025-01-01T01:00:00Z',\n",
       "  'home_team': 'Colorado Avalanche',\n",
       "  'away_team': 'Winnipeg Jets'},\n",
       " {'id': 'c8fa1c80d495a223a143ce9cbea4376d',\n",
       "  'sport_key': 'icehockey_nhl',\n",
       "  'sport_title': 'NHL',\n",
       "  'commence_time': '2025-01-01T01:00:00Z',\n",
       "  'home_team': 'Detroit Red Wings',\n",
       "  'away_team': 'Pittsburgh Penguins'},\n",
       " {'id': '96c1a7022b21da2b63ee692f99d72064',\n",
       "  'sport_key': 'icehockey_nhl',\n",
       "  'sport_title': 'NHL',\n",
       "  'commence_time': '2025-01-01T01:00:00Z',\n",
       "  'home_team': 'Minnesota Wild',\n",
       "  'away_team': 'Nashville Predators'},\n",
       " {'id': '34c199f612a68c55bcd17bb4f7ab2feb',\n",
       "  'sport_key': 'icehockey_nhl',\n",
       "  'sport_title': 'NHL',\n",
       "  'commence_time': '2025-01-01T01:00:00Z',\n",
       "  'home_team': 'San Jose Sharks',\n",
       "  'away_team': 'Philadelphia Flyers'},\n",
       " {'id': 'e6adc065cc5ae54b71e546daee28914a',\n",
       "  'sport_key': 'icehockey_nhl',\n",
       "  'sport_title': 'NHL',\n",
       "  'commence_time': '2025-01-01T02:00:00Z',\n",
       "  'home_team': 'Calgary Flames',\n",
       "  'away_team': 'Vancouver Canucks'},\n",
       " {'id': '02cf4d6431fcdb2fcd7297ffd555713e',\n",
       "  'sport_key': 'icehockey_nhl',\n",
       "  'sport_title': 'NHL',\n",
       "  'commence_time': '2025-01-01T02:00:00Z',\n",
       "  'home_team': 'Edmonton Oilers',\n",
       "  'away_team': 'Utah Hockey Club'},\n",
       " {'id': 'bcc04f35f5e75688584e294ce3165534',\n",
       "  'sport_key': 'icehockey_nhl',\n",
       "  'sport_title': 'NHL',\n",
       "  'commence_time': '2025-01-01T23:00:00Z',\n",
       "  'home_team': 'Los Angeles Kings',\n",
       "  'away_team': 'New Jersey Devils'}]"
      ]
     },
     "execution_count": 3,
     "metadata": {},
     "output_type": "execute_result"
    }
   ],
   "source": [
    "fetch_and_store_the_odds_events('2024-12-31', enable_logging=True)"
   ]
  }
 ],
 "metadata": {
  "kernelspec": {
   "display_name": ".venv",
   "language": "python",
   "name": "python3"
  },
  "language_info": {
   "codemirror_mode": {
    "name": "ipython",
    "version": 3
   },
   "file_extension": ".py",
   "mimetype": "text/x-python",
   "name": "python",
   "nbconvert_exporter": "python",
   "pygments_lexer": "ipython3",
   "version": "3.10.2"
  }
 },
 "nbformat": 4,
 "nbformat_minor": 2
}

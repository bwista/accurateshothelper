{
 "cells": [
  {
   "cell_type": "code",
   "execution_count": 1,
   "metadata": {},
   "outputs": [
    {
     "name": "stderr",
     "output_type": "stream",
     "text": [
      "c:\\Users\\bills\\Documents\\python\\accurateshothelper\\.venv\\lib\\site-packages\\fuzzywuzzy\\fuzz.py:11: UserWarning: Using slow pure-python SequenceMatcher. Install python-Levenshtein to remove this warning\n",
      "  warnings.warn('Using slow pure-python SequenceMatcher. Install python-Levenshtein to remove this warning')\n"
     ]
    }
   ],
   "source": [
    "import pandas as pd\n",
    "pd.set_option('display.max_rows', None)  # Set to None to display all rows\n",
    "import urllib\n",
    "import psycopg2\n",
    "from psycopg2.extras import execute_values\n",
    "from datetime import datetime, timedelta, timezone\n",
    "\n",
    "from utils import get_request\n",
    "from db_utils.base_utils import get_db_connection\n",
    "from db_utils.the_odds_db_utils import *"
   ]
  },
  {
   "cell_type": "code",
   "execution_count": 2,
   "metadata": {},
   "outputs": [
    {
     "data": {
      "text/plain": [
       "'2025-01-01'"
      ]
     },
     "execution_count": 2,
     "metadata": {},
     "output_type": "execute_result"
    }
   ],
   "source": [
    "# Today's date (EST)\n",
    "(datetime.now() - timedelta(hours=6)).strftime('%Y-%m-%d')"
   ]
  },
  {
   "cell_type": "code",
   "execution_count": 3,
   "metadata": {},
   "outputs": [
    {
     "name": "stderr",
     "output_type": "stream",
     "text": [
      "2025-01-01 11:51:54,942 - root - INFO - Fetching and storing NHL events for date: 2024-12-30\n",
      "2025-01-01 11:51:54,943 - root - INFO - Using historical API for date: 2024-12-30\n",
      "2025-01-01 11:51:55,707 - db_utils.base_utils - INFO - Attempting connection with: host=localhost, port=5432, dbname=the_odds, user=postgres\n",
      "2025-01-01 11:51:55,732 - db_utils.base_utils - INFO - Successfully established database connection\n",
      "2025-01-01 11:51:55,736 - root - INFO - Inserted/Updated 16 records into game_info table.\n",
      "2025-01-01 11:51:55,737 - root - INFO - Completed fetching and storing events.\n"
     ]
    },
    {
     "data": {
      "text/plain": [
       "[{'id': '8295b240b0f6ff2fb05e2d538b8d6653',\n",
       "  'sport_key': 'icehockey_nhl',\n",
       "  'sport_title': 'NHL',\n",
       "  'commence_time': '2024-12-31T00:00:00Z',\n",
       "  'home_team': 'Florida Panthers',\n",
       "  'away_team': 'New York Rangers'},\n",
       " {'id': 'd17c6ce4147ba6fa457097fb74596e72',\n",
       "  'sport_key': 'icehockey_nhl',\n",
       "  'sport_title': 'NHL',\n",
       "  'commence_time': '2024-12-31T00:30:00Z',\n",
       "  'home_team': 'Winnipeg Jets',\n",
       "  'away_team': 'Nashville Predators'},\n",
       " {'id': 'd172475cd20920b7adfc712a44429759',\n",
       "  'sport_key': 'icehockey_nhl',\n",
       "  'sport_title': 'NHL',\n",
       "  'commence_time': '2024-12-31T01:00:00Z',\n",
       "  'home_team': 'Seattle Kraken',\n",
       "  'away_team': 'Utah Hockey Club'},\n",
       " {'id': '83c00f54e27e7e92fcccd05c3c63b1ee',\n",
       "  'sport_key': 'icehockey_nhl',\n",
       "  'sport_title': 'NHL',\n",
       "  'commence_time': '2024-12-31T17:30:00Z',\n",
       "  'home_team': 'Washington Capitals',\n",
       "  'away_team': 'Boston Bruins'},\n",
       " {'id': '4bc20ca48417b7fb9cfc968826411196',\n",
       "  'sport_key': 'icehockey_nhl',\n",
       "  'sport_title': 'NHL',\n",
       "  'commence_time': '2024-12-31T18:00:00Z',\n",
       "  'home_team': 'Toronto Maple Leafs',\n",
       "  'away_team': 'New York Islanders'},\n",
       " {'id': 'c7390553d92ccf06062de0603a037ca9',\n",
       "  'sport_key': 'icehockey_nhl',\n",
       "  'sport_title': 'NHL',\n",
       "  'commence_time': '2024-12-31T20:00:00Z',\n",
       "  'home_team': 'Vegas Golden Knights',\n",
       "  'away_team': 'Montréal Canadiens'},\n",
       " {'id': '5d98242aa5b528a77fe3e216d82bfdcc',\n",
       "  'sport_key': 'icehockey_nhl',\n",
       "  'sport_title': 'NHL',\n",
       "  'commence_time': '2024-12-31T22:00:00Z',\n",
       "  'home_team': 'Chicago Blackhawks',\n",
       "  'away_team': 'St Louis Blues'},\n",
       " {'id': 'faa8329058f9750c74760477d39deeb4',\n",
       "  'sport_key': 'icehockey_nhl',\n",
       "  'sport_title': 'NHL',\n",
       "  'commence_time': '2025-01-01T01:00:00Z',\n",
       "  'home_team': 'Anaheim Ducks',\n",
       "  'away_team': 'New Jersey Devils'},\n",
       " {'id': '0ab96444b1b7b38bedf52751aa2b7c9d',\n",
       "  'sport_key': 'icehockey_nhl',\n",
       "  'sport_title': 'NHL',\n",
       "  'commence_time': '2025-01-01T01:00:00Z',\n",
       "  'home_team': 'Dallas Stars',\n",
       "  'away_team': 'Buffalo Sabres'},\n",
       " {'id': '5a473f12e5a8bebcf564be649f563147',\n",
       "  'sport_key': 'icehockey_nhl',\n",
       "  'sport_title': 'NHL',\n",
       "  'commence_time': '2025-01-01T01:00:00Z',\n",
       "  'home_team': 'Columbus Blue Jackets',\n",
       "  'away_team': 'Carolina Hurricanes'},\n",
       " {'id': 'e98f1ea454e0456600691846bddd9e2c',\n",
       "  'sport_key': 'icehockey_nhl',\n",
       "  'sport_title': 'NHL',\n",
       "  'commence_time': '2025-01-01T01:00:00Z',\n",
       "  'home_team': 'Colorado Avalanche',\n",
       "  'away_team': 'Winnipeg Jets'},\n",
       " {'id': 'c8fa1c80d495a223a143ce9cbea4376d',\n",
       "  'sport_key': 'icehockey_nhl',\n",
       "  'sport_title': 'NHL',\n",
       "  'commence_time': '2025-01-01T01:00:00Z',\n",
       "  'home_team': 'Detroit Red Wings',\n",
       "  'away_team': 'Pittsburgh Penguins'},\n",
       " {'id': '96c1a7022b21da2b63ee692f99d72064',\n",
       "  'sport_key': 'icehockey_nhl',\n",
       "  'sport_title': 'NHL',\n",
       "  'commence_time': '2025-01-01T01:00:00Z',\n",
       "  'home_team': 'Minnesota Wild',\n",
       "  'away_team': 'Nashville Predators'},\n",
       " {'id': '34c199f612a68c55bcd17bb4f7ab2feb',\n",
       "  'sport_key': 'icehockey_nhl',\n",
       "  'sport_title': 'NHL',\n",
       "  'commence_time': '2025-01-01T01:00:00Z',\n",
       "  'home_team': 'San Jose Sharks',\n",
       "  'away_team': 'Philadelphia Flyers'},\n",
       " {'id': 'e6adc065cc5ae54b71e546daee28914a',\n",
       "  'sport_key': 'icehockey_nhl',\n",
       "  'sport_title': 'NHL',\n",
       "  'commence_time': '2025-01-01T02:00:00Z',\n",
       "  'home_team': 'Calgary Flames',\n",
       "  'away_team': 'Vancouver Canucks'},\n",
       " {'id': '02cf4d6431fcdb2fcd7297ffd555713e',\n",
       "  'sport_key': 'icehockey_nhl',\n",
       "  'sport_title': 'NHL',\n",
       "  'commence_time': '2025-01-01T02:00:00Z',\n",
       "  'home_team': 'Edmonton Oilers',\n",
       "  'away_team': 'Utah Hockey Club'}]"
      ]
     },
     "execution_count": 3,
     "metadata": {},
     "output_type": "execute_result"
    }
   ],
   "source": [
    "fetch_and_store_nhl_games('2024-12-30', enable_logging=True)"
   ]
  },
  {
   "cell_type": "code",
   "execution_count": 4,
   "metadata": {},
   "outputs": [
    {
     "name": "stderr",
     "output_type": "stream",
     "text": [
      "2025-01-01 11:51:55,746 - root - INFO - Retrieving NHL events from DB for date: 2024-12-30\n",
      "2025-01-01 11:51:55,746 - db_utils.base_utils - INFO - Attempting connection with: host=localhost, port=5432, dbname=the_odds, user=postgres\n",
      "2025-01-01 11:51:55,883 - db_utils.base_utils - INFO - Successfully established database connection\n",
      "2025-01-01 11:51:55,884 - root - INFO - Retrieved 3 events from the database for date 2024-12-30.\n"
     ]
    },
    {
     "data": {
      "text/plain": [
       "[{'id': '8295b240b0f6ff2fb05e2d538b8d6653',\n",
       "  'sport_key': 'icehockey_nhl',\n",
       "  'sport_title': 'NHL',\n",
       "  'home_team': 'Florida Panthers',\n",
       "  'away_team': 'New York Rangers',\n",
       "  'commence_time': datetime.datetime(2024, 12, 30, 18, 0, tzinfo=datetime.timezone(datetime.timedelta(days=-1, seconds=64800)))},\n",
       " {'id': 'd17c6ce4147ba6fa457097fb74596e72',\n",
       "  'sport_key': 'icehockey_nhl',\n",
       "  'sport_title': 'NHL',\n",
       "  'home_team': 'Winnipeg Jets',\n",
       "  'away_team': 'Nashville Predators',\n",
       "  'commence_time': datetime.datetime(2024, 12, 30, 18, 30, tzinfo=datetime.timezone(datetime.timedelta(days=-1, seconds=64800)))},\n",
       " {'id': 'd172475cd20920b7adfc712a44429759',\n",
       "  'sport_key': 'icehockey_nhl',\n",
       "  'sport_title': 'NHL',\n",
       "  'home_team': 'Seattle Kraken',\n",
       "  'away_team': 'Utah Hockey Club',\n",
       "  'commence_time': datetime.datetime(2024, 12, 30, 19, 0, tzinfo=datetime.timezone(datetime.timedelta(days=-1, seconds=64800)))}]"
      ]
     },
     "execution_count": 4,
     "metadata": {},
     "output_type": "execute_result"
    }
   ],
   "source": [
    "get_nhl_events_from_db('2024-12-30', enable_logging=True)"
   ]
  },
  {
   "cell_type": "code",
   "execution_count": 5,
   "metadata": {},
   "outputs": [
    {
     "name": "stderr",
     "output_type": "stream",
     "text": [
      "2025-01-01 11:51:57,177 - root - INFO - Processing all SOG markets for date: 2024-12-30\n",
      "2025-01-01 11:51:57,177 - root - INFO - Retrieving NHL events from DB for date: 2024-12-30\n",
      "2025-01-01 11:51:57,178 - db_utils.base_utils - INFO - Attempting connection with: host=localhost, port=5432, dbname=the_odds, user=postgres\n",
      "2025-01-01 11:51:57,203 - db_utils.base_utils - INFO - Successfully established database connection\n",
      "2025-01-01 11:51:57,204 - root - INFO - Retrieved 3 events from the database for date 2024-12-30.\n",
      "2025-01-01 11:51:57,205 - root - INFO - Processing game 8295b240b0f6ff2fb05e2d538b8d6653 scheduled for 2024-12-30\n",
      "2025-01-01 11:51:57,205 - root - INFO - Processing SOG markets for game: 8295b240b0f6ff2fb05e2d538b8d6653\n",
      "2025-01-01 11:51:57,206 - root - INFO - Using historical odds for date: 2024-12-30\n",
      "2025-01-01 11:51:57,827 - db_utils.base_utils - INFO - Attempting connection with: host=localhost, port=5432, dbname=the_odds, user=postgres\n",
      "2025-01-01 11:51:57,850 - db_utils.base_utils - INFO - Successfully established database connection\n",
      "2025-01-01 11:51:57,861 - root - INFO - Inserted/Updated 164 records for game 8295b240b0f6ff2fb05e2d538b8d6653\n",
      "2025-01-01 11:51:57,861 - root - INFO - Completed processing SOG markets for game 8295b240b0f6ff2fb05e2d538b8d6653\n",
      "2025-01-01 11:51:57,862 - root - INFO - Processing game d17c6ce4147ba6fa457097fb74596e72 scheduled for 2024-12-30\n",
      "2025-01-01 11:51:57,863 - root - INFO - Processing SOG markets for game: d17c6ce4147ba6fa457097fb74596e72\n",
      "2025-01-01 11:51:57,863 - root - INFO - Using historical odds for date: 2024-12-30\n",
      "2025-01-01 11:51:58,480 - db_utils.base_utils - INFO - Attempting connection with: host=localhost, port=5432, dbname=the_odds, user=postgres\n",
      "2025-01-01 11:51:58,504 - db_utils.base_utils - INFO - Successfully established database connection\n",
      "2025-01-01 11:51:58,512 - root - INFO - Inserted/Updated 160 records for game d17c6ce4147ba6fa457097fb74596e72\n",
      "2025-01-01 11:51:58,513 - root - INFO - Completed processing SOG markets for game d17c6ce4147ba6fa457097fb74596e72\n",
      "2025-01-01 11:51:58,514 - root - INFO - Processing game d172475cd20920b7adfc712a44429759 scheduled for 2024-12-30\n",
      "2025-01-01 11:51:58,514 - root - INFO - Processing SOG markets for game: d172475cd20920b7adfc712a44429759\n",
      "2025-01-01 11:51:58,514 - root - INFO - Using historical odds for date: 2024-12-30\n",
      "2025-01-01 11:51:59,128 - db_utils.base_utils - INFO - Attempting connection with: host=localhost, port=5432, dbname=the_odds, user=postgres\n",
      "2025-01-01 11:51:59,152 - db_utils.base_utils - INFO - Successfully established database connection\n",
      "2025-01-01 11:51:59,160 - root - INFO - Inserted/Updated 130 records for game d172475cd20920b7adfc712a44429759\n",
      "2025-01-01 11:51:59,161 - root - INFO - Completed processing SOG markets for game d172475cd20920b7adfc712a44429759\n",
      "2025-01-01 11:51:59,161 - root - INFO - Completed processing all SOG markets for date 2024-12-30\n"
     ]
    }
   ],
   "source": [
    "process_all_sog_markets('2024-12-30', enable_logging=True)"
   ]
  }
 ],
 "metadata": {
  "kernelspec": {
   "display_name": ".venv",
   "language": "python",
   "name": "python3"
  },
  "language_info": {
   "codemirror_mode": {
    "name": "ipython",
    "version": 3
   },
   "file_extension": ".py",
   "mimetype": "text/x-python",
   "name": "python",
   "nbconvert_exporter": "python",
   "pygments_lexer": "ipython3",
   "version": "3.9.7"
  }
 },
 "nbformat": 4,
 "nbformat_minor": 2
}

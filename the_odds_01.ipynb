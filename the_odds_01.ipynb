{
 "cells": [
  {
   "cell_type": "code",
   "execution_count": 1,
   "metadata": {},
   "outputs": [
    {
     "name": "stderr",
     "output_type": "stream",
     "text": [
      "c:\\Users\\bills\\Documents\\python\\accurateshothelper\\.venv\\lib\\site-packages\\fuzzywuzzy\\fuzz.py:11: UserWarning: Using slow pure-python SequenceMatcher. Install python-Levenshtein to remove this warning\n",
      "  warnings.warn('Using slow pure-python SequenceMatcher. Install python-Levenshtein to remove this warning')\n"
     ]
    }
   ],
   "source": [
    "import pandas as pd\n",
    "pd.set_option('display.max_rows', None)  # Set to None to display all rows\n",
    "import urllib\n",
    "import psycopg2\n",
    "from psycopg2.extras import execute_values\n",
    "from datetime import datetime, timedelta, timezone\n",
    "\n",
    "from utils import get_request\n",
    "from db_utils.base_utils import get_db_connection\n",
    "from db_utils.the_odds_db_utils import *"
   ]
  },
  {
   "cell_type": "code",
   "execution_count": 2,
   "metadata": {},
   "outputs": [
    {
     "data": {
      "text/plain": [
       "'2024-12-31'"
      ]
     },
     "execution_count": 2,
     "metadata": {},
     "output_type": "execute_result"
    }
   ],
   "source": [
    "# Today's date (EST)\n",
    "(datetime.now() - timedelta(hours=6)).strftime('%Y-%m-%d')"
   ]
  },
  {
   "cell_type": "code",
   "execution_count": 3,
   "metadata": {},
   "outputs": [
    {
     "name": "stderr",
     "output_type": "stream",
     "text": [
      "2024-12-31 15:07:38,899 - root - INFO - Fetching and storing NHL events for date: 2024-12-31\n",
      "2024-12-31 15:07:39,076 - db_utils.base_utils - INFO - Attempting connection with: host=localhost, port=5432, dbname=the_odds, user=postgres\n",
      "2024-12-31 15:07:39,101 - db_utils.base_utils - INFO - Successfully established database connection\n",
      "2024-12-31 15:07:39,103 - root - INFO - Inserted/Updated 12 records into game_info table.\n",
      "2024-12-31 15:07:39,104 - root - INFO - Completed fetching and storing events.\n"
     ]
    },
    {
     "data": {
      "text/plain": [
       "[{'id': 'c7390553d92ccf06062de0603a037ca9',\n",
       "  'sport_key': 'icehockey_nhl',\n",
       "  'sport_title': 'NHL',\n",
       "  'commence_time': '2024-12-31T20:08:00Z',\n",
       "  'home_team': 'Vegas Golden Knights',\n",
       "  'away_team': 'Montréal Canadiens'},\n",
       " {'id': '5d98242aa5b528a77fe3e216d82bfdcc',\n",
       "  'sport_key': 'icehockey_nhl',\n",
       "  'sport_title': 'NHL',\n",
       "  'commence_time': '2024-12-31T22:00:00Z',\n",
       "  'home_team': 'Chicago Blackhawks',\n",
       "  'away_team': 'St Louis Blues'},\n",
       " {'id': 'faa8329058f9750c74760477d39deeb4',\n",
       "  'sport_key': 'icehockey_nhl',\n",
       "  'sport_title': 'NHL',\n",
       "  'commence_time': '2025-01-01T01:00:00Z',\n",
       "  'home_team': 'Anaheim Ducks',\n",
       "  'away_team': 'New Jersey Devils'},\n",
       " {'id': '0ab96444b1b7b38bedf52751aa2b7c9d',\n",
       "  'sport_key': 'icehockey_nhl',\n",
       "  'sport_title': 'NHL',\n",
       "  'commence_time': '2025-01-01T01:00:00Z',\n",
       "  'home_team': 'Dallas Stars',\n",
       "  'away_team': 'Buffalo Sabres'},\n",
       " {'id': '5a473f12e5a8bebcf564be649f563147',\n",
       "  'sport_key': 'icehockey_nhl',\n",
       "  'sport_title': 'NHL',\n",
       "  'commence_time': '2025-01-01T01:00:00Z',\n",
       "  'home_team': 'Columbus Blue Jackets',\n",
       "  'away_team': 'Carolina Hurricanes'},\n",
       " {'id': 'e98f1ea454e0456600691846bddd9e2c',\n",
       "  'sport_key': 'icehockey_nhl',\n",
       "  'sport_title': 'NHL',\n",
       "  'commence_time': '2025-01-01T01:00:00Z',\n",
       "  'home_team': 'Colorado Avalanche',\n",
       "  'away_team': 'Winnipeg Jets'},\n",
       " {'id': 'c8fa1c80d495a223a143ce9cbea4376d',\n",
       "  'sport_key': 'icehockey_nhl',\n",
       "  'sport_title': 'NHL',\n",
       "  'commence_time': '2025-01-01T01:00:00Z',\n",
       "  'home_team': 'Detroit Red Wings',\n",
       "  'away_team': 'Pittsburgh Penguins'},\n",
       " {'id': '96c1a7022b21da2b63ee692f99d72064',\n",
       "  'sport_key': 'icehockey_nhl',\n",
       "  'sport_title': 'NHL',\n",
       "  'commence_time': '2025-01-01T01:00:00Z',\n",
       "  'home_team': 'Minnesota Wild',\n",
       "  'away_team': 'Nashville Predators'},\n",
       " {'id': '34c199f612a68c55bcd17bb4f7ab2feb',\n",
       "  'sport_key': 'icehockey_nhl',\n",
       "  'sport_title': 'NHL',\n",
       "  'commence_time': '2025-01-01T01:00:00Z',\n",
       "  'home_team': 'San Jose Sharks',\n",
       "  'away_team': 'Philadelphia Flyers'},\n",
       " {'id': 'e6adc065cc5ae54b71e546daee28914a',\n",
       "  'sport_key': 'icehockey_nhl',\n",
       "  'sport_title': 'NHL',\n",
       "  'commence_time': '2025-01-01T02:00:00Z',\n",
       "  'home_team': 'Calgary Flames',\n",
       "  'away_team': 'Vancouver Canucks'},\n",
       " {'id': '02cf4d6431fcdb2fcd7297ffd555713e',\n",
       "  'sport_key': 'icehockey_nhl',\n",
       "  'sport_title': 'NHL',\n",
       "  'commence_time': '2025-01-01T02:00:00Z',\n",
       "  'home_team': 'Edmonton Oilers',\n",
       "  'away_team': 'Utah Hockey Club'},\n",
       " {'id': 'bcc04f35f5e75688584e294ce3165534',\n",
       "  'sport_key': 'icehockey_nhl',\n",
       "  'sport_title': 'NHL',\n",
       "  'commence_time': '2025-01-01T23:00:00Z',\n",
       "  'home_team': 'Los Angeles Kings',\n",
       "  'away_team': 'New Jersey Devils'}]"
      ]
     },
     "execution_count": 3,
     "metadata": {},
     "output_type": "execute_result"
    }
   ],
   "source": [
    "fetch_and_store_nhl_games('2024-12-31', enable_logging=True)"
   ]
  },
  {
   "cell_type": "code",
   "execution_count": 4,
   "metadata": {},
   "outputs": [
    {
     "name": "stderr",
     "output_type": "stream",
     "text": [
      "2024-12-31 15:07:39,118 - root - INFO - Retrieving NHL events from DB for date: 2024-12-31\n",
      "2024-12-31 15:07:39,118 - db_utils.base_utils - INFO - Attempting connection with: host=localhost, port=5432, dbname=the_odds, user=postgres\n",
      "2024-12-31 15:07:39,252 - db_utils.base_utils - INFO - Successfully established database connection\n",
      "2024-12-31 15:07:39,254 - root - INFO - Retrieved 13 events from the database for date 2024-12-31.\n"
     ]
    },
    {
     "data": {
      "text/plain": [
       "[{'id': '83c00f54e27e7e92fcccd05c3c63b1ee',\n",
       "  'sport_key': 'icehockey_nhl',\n",
       "  'sport_title': 'NHL',\n",
       "  'home_team': 'Washington Capitals',\n",
       "  'away_team': 'Boston Bruins',\n",
       "  'commence_time': datetime.datetime(2024, 12, 31, 11, 38, tzinfo=datetime.timezone(datetime.timedelta(days=-1, seconds=64800)))},\n",
       " {'id': '4bc20ca48417b7fb9cfc968826411196',\n",
       "  'sport_key': 'icehockey_nhl',\n",
       "  'sport_title': 'NHL',\n",
       "  'home_team': 'Toronto Maple Leafs',\n",
       "  'away_team': 'New York Islanders',\n",
       "  'commence_time': datetime.datetime(2024, 12, 31, 12, 10, tzinfo=datetime.timezone(datetime.timedelta(days=-1, seconds=64800)))},\n",
       " {'id': 'c7390553d92ccf06062de0603a037ca9',\n",
       "  'sport_key': 'icehockey_nhl',\n",
       "  'sport_title': 'NHL',\n",
       "  'home_team': 'Vegas Golden Knights',\n",
       "  'away_team': 'Montréal Canadiens',\n",
       "  'commence_time': datetime.datetime(2024, 12, 31, 14, 8, tzinfo=datetime.timezone(datetime.timedelta(days=-1, seconds=64800)))},\n",
       " {'id': '5d98242aa5b528a77fe3e216d82bfdcc',\n",
       "  'sport_key': 'icehockey_nhl',\n",
       "  'sport_title': 'NHL',\n",
       "  'home_team': 'Chicago Blackhawks',\n",
       "  'away_team': 'St Louis Blues',\n",
       "  'commence_time': datetime.datetime(2024, 12, 31, 16, 0, tzinfo=datetime.timezone(datetime.timedelta(days=-1, seconds=64800)))},\n",
       " {'id': 'faa8329058f9750c74760477d39deeb4',\n",
       "  'sport_key': 'icehockey_nhl',\n",
       "  'sport_title': 'NHL',\n",
       "  'home_team': 'Anaheim Ducks',\n",
       "  'away_team': 'New Jersey Devils',\n",
       "  'commence_time': datetime.datetime(2024, 12, 31, 19, 0, tzinfo=datetime.timezone(datetime.timedelta(days=-1, seconds=64800)))},\n",
       " {'id': '0ab96444b1b7b38bedf52751aa2b7c9d',\n",
       "  'sport_key': 'icehockey_nhl',\n",
       "  'sport_title': 'NHL',\n",
       "  'home_team': 'Dallas Stars',\n",
       "  'away_team': 'Buffalo Sabres',\n",
       "  'commence_time': datetime.datetime(2024, 12, 31, 19, 0, tzinfo=datetime.timezone(datetime.timedelta(days=-1, seconds=64800)))},\n",
       " {'id': '5a473f12e5a8bebcf564be649f563147',\n",
       "  'sport_key': 'icehockey_nhl',\n",
       "  'sport_title': 'NHL',\n",
       "  'home_team': 'Columbus Blue Jackets',\n",
       "  'away_team': 'Carolina Hurricanes',\n",
       "  'commence_time': datetime.datetime(2024, 12, 31, 19, 0, tzinfo=datetime.timezone(datetime.timedelta(days=-1, seconds=64800)))},\n",
       " {'id': 'e98f1ea454e0456600691846bddd9e2c',\n",
       "  'sport_key': 'icehockey_nhl',\n",
       "  'sport_title': 'NHL',\n",
       "  'home_team': 'Colorado Avalanche',\n",
       "  'away_team': 'Winnipeg Jets',\n",
       "  'commence_time': datetime.datetime(2024, 12, 31, 19, 0, tzinfo=datetime.timezone(datetime.timedelta(days=-1, seconds=64800)))},\n",
       " {'id': 'c8fa1c80d495a223a143ce9cbea4376d',\n",
       "  'sport_key': 'icehockey_nhl',\n",
       "  'sport_title': 'NHL',\n",
       "  'home_team': 'Detroit Red Wings',\n",
       "  'away_team': 'Pittsburgh Penguins',\n",
       "  'commence_time': datetime.datetime(2024, 12, 31, 19, 0, tzinfo=datetime.timezone(datetime.timedelta(days=-1, seconds=64800)))},\n",
       " {'id': '96c1a7022b21da2b63ee692f99d72064',\n",
       "  'sport_key': 'icehockey_nhl',\n",
       "  'sport_title': 'NHL',\n",
       "  'home_team': 'Minnesota Wild',\n",
       "  'away_team': 'Nashville Predators',\n",
       "  'commence_time': datetime.datetime(2024, 12, 31, 19, 0, tzinfo=datetime.timezone(datetime.timedelta(days=-1, seconds=64800)))},\n",
       " {'id': '34c199f612a68c55bcd17bb4f7ab2feb',\n",
       "  'sport_key': 'icehockey_nhl',\n",
       "  'sport_title': 'NHL',\n",
       "  'home_team': 'San Jose Sharks',\n",
       "  'away_team': 'Philadelphia Flyers',\n",
       "  'commence_time': datetime.datetime(2024, 12, 31, 19, 0, tzinfo=datetime.timezone(datetime.timedelta(days=-1, seconds=64800)))},\n",
       " {'id': 'e6adc065cc5ae54b71e546daee28914a',\n",
       "  'sport_key': 'icehockey_nhl',\n",
       "  'sport_title': 'NHL',\n",
       "  'home_team': 'Calgary Flames',\n",
       "  'away_team': 'Vancouver Canucks',\n",
       "  'commence_time': datetime.datetime(2024, 12, 31, 20, 0, tzinfo=datetime.timezone(datetime.timedelta(days=-1, seconds=64800)))},\n",
       " {'id': '02cf4d6431fcdb2fcd7297ffd555713e',\n",
       "  'sport_key': 'icehockey_nhl',\n",
       "  'sport_title': 'NHL',\n",
       "  'home_team': 'Edmonton Oilers',\n",
       "  'away_team': 'Utah Hockey Club',\n",
       "  'commence_time': datetime.datetime(2024, 12, 31, 20, 0, tzinfo=datetime.timezone(datetime.timedelta(days=-1, seconds=64800)))}]"
      ]
     },
     "execution_count": 4,
     "metadata": {},
     "output_type": "execute_result"
    }
   ],
   "source": [
    "get_nhl_events_from_db('2024-12-31', enable_logging=True)"
   ]
  },
  {
   "cell_type": "code",
   "execution_count": 5,
   "metadata": {},
   "outputs": [
    {
     "name": "stderr",
     "output_type": "stream",
     "text": [
      "2024-12-31 15:07:40,451 - root - INFO - Processing all SOG markets for date: 2024-12-31\n",
      "2024-12-31 15:07:40,451 - root - INFO - Creating player_sog_odds table if it doesn't exist\n",
      "2024-12-31 15:07:40,452 - db_utils.base_utils - INFO - Attempting connection with: host=localhost, port=5432, dbname=the_odds, user=postgres\n",
      "2024-12-31 15:07:40,476 - db_utils.base_utils - INFO - Successfully established database connection\n",
      "2024-12-31 15:07:40,483 - root - INFO - Successfully created player_sog_odds table and indexes\n",
      "2024-12-31 15:07:40,483 - root - INFO - Retrieving NHL events from DB for date: 2024-12-31\n",
      "2024-12-31 15:07:40,484 - db_utils.base_utils - INFO - Attempting connection with: host=localhost, port=5432, dbname=the_odds, user=postgres\n",
      "2024-12-31 15:07:40,508 - db_utils.base_utils - INFO - Successfully established database connection\n",
      "2024-12-31 15:07:40,510 - root - INFO - Retrieved 13 events from the database for date 2024-12-31.\n",
      "2024-12-31 15:07:40,510 - root - INFO - Processing SOG markets for game: 83c00f54e27e7e92fcccd05c3c63b1ee\n",
      "2024-12-31 15:07:40,662 - root - WARNING - No market data found for game 83c00f54e27e7e92fcccd05c3c63b1ee\n",
      "2024-12-31 15:07:40,663 - root - INFO - Processing SOG markets for game: 4bc20ca48417b7fb9cfc968826411196\n",
      "2024-12-31 15:07:40,840 - root - WARNING - No market data found for game 4bc20ca48417b7fb9cfc968826411196\n",
      "2024-12-31 15:07:40,841 - root - INFO - Processing SOG markets for game: c7390553d92ccf06062de0603a037ca9\n",
      "2024-12-31 15:07:41,047 - db_utils.base_utils - INFO - Attempting connection with: host=localhost, port=5432, dbname=the_odds, user=postgres\n",
      "2024-12-31 15:07:41,071 - db_utils.base_utils - INFO - Successfully established database connection\n",
      "2024-12-31 15:07:41,071 - root - WARNING - No records to insert for game c7390553d92ccf06062de0603a037ca9\n",
      "2024-12-31 15:07:41,072 - root - INFO - Completed processing SOG markets for game c7390553d92ccf06062de0603a037ca9\n",
      "2024-12-31 15:07:41,072 - root - INFO - Processing SOG markets for game: 5d98242aa5b528a77fe3e216d82bfdcc\n",
      "2024-12-31 15:07:45,371 - db_utils.base_utils - INFO - Attempting connection with: host=localhost, port=5432, dbname=the_odds, user=postgres\n",
      "2024-12-31 15:07:45,395 - db_utils.base_utils - INFO - Successfully established database connection\n",
      "2024-12-31 15:07:45,404 - root - INFO - Inserted/Updated 134 records for game 5d98242aa5b528a77fe3e216d82bfdcc\n",
      "2024-12-31 15:07:45,404 - root - INFO - Completed processing SOG markets for game 5d98242aa5b528a77fe3e216d82bfdcc\n",
      "2024-12-31 15:07:45,404 - root - INFO - Processing SOG markets for game: faa8329058f9750c74760477d39deeb4\n",
      "2024-12-31 15:07:47,273 - db_utils.base_utils - INFO - Attempting connection with: host=localhost, port=5432, dbname=the_odds, user=postgres\n",
      "2024-12-31 15:07:47,412 - db_utils.base_utils - INFO - Successfully established database connection\n",
      "2024-12-31 15:07:47,419 - root - INFO - Inserted/Updated 146 records for game faa8329058f9750c74760477d39deeb4\n",
      "2024-12-31 15:07:47,420 - root - INFO - Completed processing SOG markets for game faa8329058f9750c74760477d39deeb4\n",
      "2024-12-31 15:07:47,420 - root - INFO - Processing SOG markets for game: 0ab96444b1b7b38bedf52751aa2b7c9d\n",
      "2024-12-31 15:07:47,573 - db_utils.base_utils - INFO - Attempting connection with: host=localhost, port=5432, dbname=the_odds, user=postgres\n",
      "2024-12-31 15:07:47,597 - db_utils.base_utils - INFO - Successfully established database connection\n",
      "2024-12-31 15:07:47,606 - root - INFO - Inserted/Updated 178 records for game 0ab96444b1b7b38bedf52751aa2b7c9d\n",
      "2024-12-31 15:07:47,606 - root - INFO - Completed processing SOG markets for game 0ab96444b1b7b38bedf52751aa2b7c9d\n",
      "2024-12-31 15:07:47,607 - root - INFO - Processing SOG markets for game: 5a473f12e5a8bebcf564be649f563147\n",
      "2024-12-31 15:07:50,350 - db_utils.base_utils - INFO - Attempting connection with: host=localhost, port=5432, dbname=the_odds, user=postgres\n",
      "2024-12-31 15:07:50,375 - db_utils.base_utils - INFO - Successfully established database connection\n",
      "2024-12-31 15:07:50,382 - root - INFO - Inserted/Updated 158 records for game 5a473f12e5a8bebcf564be649f563147\n",
      "2024-12-31 15:07:50,383 - root - INFO - Completed processing SOG markets for game 5a473f12e5a8bebcf564be649f563147\n",
      "2024-12-31 15:07:50,383 - root - INFO - Processing SOG markets for game: e98f1ea454e0456600691846bddd9e2c\n",
      "2024-12-31 15:07:50,571 - db_utils.base_utils - INFO - Attempting connection with: host=localhost, port=5432, dbname=the_odds, user=postgres\n",
      "2024-12-31 15:07:50,595 - db_utils.base_utils - INFO - Successfully established database connection\n",
      "2024-12-31 15:07:50,603 - root - INFO - Inserted/Updated 142 records for game e98f1ea454e0456600691846bddd9e2c\n",
      "2024-12-31 15:07:50,604 - root - INFO - Completed processing SOG markets for game e98f1ea454e0456600691846bddd9e2c\n",
      "2024-12-31 15:07:50,604 - root - INFO - Processing SOG markets for game: c8fa1c80d495a223a143ce9cbea4376d\n",
      "2024-12-31 15:07:50,756 - db_utils.base_utils - INFO - Attempting connection with: host=localhost, port=5432, dbname=the_odds, user=postgres\n",
      "2024-12-31 15:07:50,886 - db_utils.base_utils - INFO - Successfully established database connection\n",
      "2024-12-31 15:07:50,894 - root - INFO - Inserted/Updated 140 records for game c8fa1c80d495a223a143ce9cbea4376d\n",
      "2024-12-31 15:07:50,895 - root - INFO - Completed processing SOG markets for game c8fa1c80d495a223a143ce9cbea4376d\n",
      "2024-12-31 15:07:50,895 - root - INFO - Processing SOG markets for game: 96c1a7022b21da2b63ee692f99d72064\n",
      "2024-12-31 15:07:51,062 - db_utils.base_utils - INFO - Attempting connection with: host=localhost, port=5432, dbname=the_odds, user=postgres\n",
      "2024-12-31 15:07:51,085 - db_utils.base_utils - INFO - Successfully established database connection\n",
      "2024-12-31 15:07:51,093 - root - INFO - Inserted/Updated 148 records for game 96c1a7022b21da2b63ee692f99d72064\n",
      "2024-12-31 15:07:51,094 - root - INFO - Completed processing SOG markets for game 96c1a7022b21da2b63ee692f99d72064\n",
      "2024-12-31 15:07:51,094 - root - INFO - Processing SOG markets for game: 34c199f612a68c55bcd17bb4f7ab2feb\n",
      "2024-12-31 15:07:51,281 - db_utils.base_utils - INFO - Attempting connection with: host=localhost, port=5432, dbname=the_odds, user=postgres\n",
      "2024-12-31 15:07:51,305 - db_utils.base_utils - INFO - Successfully established database connection\n",
      "2024-12-31 15:07:51,313 - root - INFO - Inserted/Updated 140 records for game 34c199f612a68c55bcd17bb4f7ab2feb\n",
      "2024-12-31 15:07:51,314 - root - INFO - Completed processing SOG markets for game 34c199f612a68c55bcd17bb4f7ab2feb\n",
      "2024-12-31 15:07:51,314 - root - INFO - Processing SOG markets for game: e6adc065cc5ae54b71e546daee28914a\n",
      "2024-12-31 15:07:51,464 - db_utils.base_utils - INFO - Attempting connection with: host=localhost, port=5432, dbname=the_odds, user=postgres\n",
      "2024-12-31 15:07:51,595 - db_utils.base_utils - INFO - Successfully established database connection\n",
      "2024-12-31 15:07:51,605 - root - INFO - Inserted/Updated 148 records for game e6adc065cc5ae54b71e546daee28914a\n",
      "2024-12-31 15:07:51,605 - root - INFO - Completed processing SOG markets for game e6adc065cc5ae54b71e546daee28914a\n",
      "2024-12-31 15:07:51,606 - root - INFO - Processing SOG markets for game: 02cf4d6431fcdb2fcd7297ffd555713e\n",
      "2024-12-31 15:07:51,758 - db_utils.base_utils - INFO - Attempting connection with: host=localhost, port=5432, dbname=the_odds, user=postgres\n",
      "2024-12-31 15:07:51,885 - db_utils.base_utils - INFO - Successfully established database connection\n",
      "2024-12-31 15:07:51,893 - root - INFO - Inserted/Updated 150 records for game 02cf4d6431fcdb2fcd7297ffd555713e\n",
      "2024-12-31 15:07:51,893 - root - INFO - Completed processing SOG markets for game 02cf4d6431fcdb2fcd7297ffd555713e\n",
      "2024-12-31 15:07:51,894 - root - INFO - Completed processing all SOG markets for date 2024-12-31\n"
     ]
    }
   ],
   "source": [
    "process_all_sog_markets('2024-12-31', enable_logging=True)"
   ]
  }
 ],
 "metadata": {
  "kernelspec": {
   "display_name": ".venv",
   "language": "python",
   "name": "python3"
  },
  "language_info": {
   "codemirror_mode": {
    "name": "ipython",
    "version": 3
   },
   "file_extension": ".py",
   "mimetype": "text/x-python",
   "name": "python",
   "nbconvert_exporter": "python",
   "pygments_lexer": "ipython3",
   "version": "3.9.7"
  }
 },
 "nbformat": 4,
 "nbformat_minor": 2
}
